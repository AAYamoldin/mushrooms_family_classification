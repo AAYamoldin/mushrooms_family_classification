{
 "cells": [
  {
   "cell_type": "code",
   "execution_count": 1,
   "metadata": {
    "collapsed": true
   },
   "outputs": [],
   "source": [
    "import requests\n",
    "import pandas as pd\n",
    "from tqdm import tqdm"
   ]
  },
  {
   "cell_type": "code",
   "execution_count": 3,
   "outputs": [
    {
     "data": {
      "text/plain": "                                                    image             name  \\\n226052  https://mushroomobserver.org/images/640/112308...          Russula   \n226053  https://mushroomobserver.org/images/640/112308...          Russula   \n226054  https://mushroomobserver.org/images/640/112309...          Russula   \n226055  https://mushroomobserver.org/images/640/112309...          Russula   \n226056  https://mushroomobserver.org/images/640/112309...         Entoloma   \n...                                                   ...              ...   \n249995  https://mushroomobserver.org/images/640/128218...    Mycena amicta   \n249996  https://mushroomobserver.org/images/640/128252...    Mycena amicta   \n249997  https://mushroomobserver.org/images/640/128217...  Panus conchatus   \n249998  https://mushroomobserver.org/images/640/128217...  Panus conchatus   \n249999  https://mushroomobserver.org/images/640/128218...  Panus conchatus   \n\n           created                                            license  \\\n226052  2019-07-20     http://creativecommons.org/licenses/by-sa/3.0/   \n226053  2019-07-20     http://creativecommons.org/licenses/by-sa/3.0/   \n226054  2019-07-20     http://creativecommons.org/licenses/by-sa/3.0/   \n226055  2019-07-20     http://creativecommons.org/licenses/by-sa/3.0/   \n226056  2019-07-21     http://creativecommons.org/licenses/by-sa/3.0/   \n...            ...                                                ...   \n249995  2020-11-23     http://creativecommons.org/licenses/by-sa/3.0/   \n249996  2020-11-23     http://creativecommons.org/licenses/by-sa/3.0/   \n249997  2020-11-21  http://creativecommons.org/licenses/by-nc-sa/3.0/   \n249998  2020-11-21  http://creativecommons.org/licenses/by-nc-sa/3.0/   \n249999  2020-11-21  http://creativecommons.org/licenses/by-nc-sa/3.0/   \n\n            rightsHolder  \n226052        Eva Skific  \n226053        Eva Skific  \n226054        Eva Skific  \n226055        Eva Skific  \n226056        Eva Skific  \n...                  ...  \n249995  Alan Rockefeller  \n249996  Alan Rockefeller  \n249997  Randy Longnecker  \n249998  Randy Longnecker  \n249999  Randy Longnecker  \n\n[23948 rows x 5 columns]",
      "text/html": "<div>\n<style scoped>\n    .dataframe tbody tr th:only-of-type {\n        vertical-align: middle;\n    }\n\n    .dataframe tbody tr th {\n        vertical-align: top;\n    }\n\n    .dataframe thead th {\n        text-align: right;\n    }\n</style>\n<table border=\"1\" class=\"dataframe\">\n  <thead>\n    <tr style=\"text-align: right;\">\n      <th></th>\n      <th>image</th>\n      <th>name</th>\n      <th>created</th>\n      <th>license</th>\n      <th>rightsHolder</th>\n    </tr>\n  </thead>\n  <tbody>\n    <tr>\n      <th>226052</th>\n      <td>https://mushroomobserver.org/images/640/112308...</td>\n      <td>Russula</td>\n      <td>2019-07-20</td>\n      <td>http://creativecommons.org/licenses/by-sa/3.0/</td>\n      <td>Eva Skific</td>\n    </tr>\n    <tr>\n      <th>226053</th>\n      <td>https://mushroomobserver.org/images/640/112308...</td>\n      <td>Russula</td>\n      <td>2019-07-20</td>\n      <td>http://creativecommons.org/licenses/by-sa/3.0/</td>\n      <td>Eva Skific</td>\n    </tr>\n    <tr>\n      <th>226054</th>\n      <td>https://mushroomobserver.org/images/640/112309...</td>\n      <td>Russula</td>\n      <td>2019-07-20</td>\n      <td>http://creativecommons.org/licenses/by-sa/3.0/</td>\n      <td>Eva Skific</td>\n    </tr>\n    <tr>\n      <th>226055</th>\n      <td>https://mushroomobserver.org/images/640/112309...</td>\n      <td>Russula</td>\n      <td>2019-07-20</td>\n      <td>http://creativecommons.org/licenses/by-sa/3.0/</td>\n      <td>Eva Skific</td>\n    </tr>\n    <tr>\n      <th>226056</th>\n      <td>https://mushroomobserver.org/images/640/112309...</td>\n      <td>Entoloma</td>\n      <td>2019-07-21</td>\n      <td>http://creativecommons.org/licenses/by-sa/3.0/</td>\n      <td>Eva Skific</td>\n    </tr>\n    <tr>\n      <th>...</th>\n      <td>...</td>\n      <td>...</td>\n      <td>...</td>\n      <td>...</td>\n      <td>...</td>\n    </tr>\n    <tr>\n      <th>249995</th>\n      <td>https://mushroomobserver.org/images/640/128218...</td>\n      <td>Mycena amicta</td>\n      <td>2020-11-23</td>\n      <td>http://creativecommons.org/licenses/by-sa/3.0/</td>\n      <td>Alan Rockefeller</td>\n    </tr>\n    <tr>\n      <th>249996</th>\n      <td>https://mushroomobserver.org/images/640/128252...</td>\n      <td>Mycena amicta</td>\n      <td>2020-11-23</td>\n      <td>http://creativecommons.org/licenses/by-sa/3.0/</td>\n      <td>Alan Rockefeller</td>\n    </tr>\n    <tr>\n      <th>249997</th>\n      <td>https://mushroomobserver.org/images/640/128217...</td>\n      <td>Panus conchatus</td>\n      <td>2020-11-21</td>\n      <td>http://creativecommons.org/licenses/by-nc-sa/3.0/</td>\n      <td>Randy Longnecker</td>\n    </tr>\n    <tr>\n      <th>249998</th>\n      <td>https://mushroomobserver.org/images/640/128217...</td>\n      <td>Panus conchatus</td>\n      <td>2020-11-21</td>\n      <td>http://creativecommons.org/licenses/by-nc-sa/3.0/</td>\n      <td>Randy Longnecker</td>\n    </tr>\n    <tr>\n      <th>249999</th>\n      <td>https://mushroomobserver.org/images/640/128218...</td>\n      <td>Panus conchatus</td>\n      <td>2020-11-21</td>\n      <td>http://creativecommons.org/licenses/by-nc-sa/3.0/</td>\n      <td>Randy Longnecker</td>\n    </tr>\n  </tbody>\n</table>\n<p>23948 rows × 5 columns</p>\n</div>"
     },
     "execution_count": 3,
     "metadata": {},
     "output_type": "execute_result"
    }
   ],
   "source": [
    "df = pd.read_csv('MO MI images - imagesAndNames.csv')\n",
    "df = df[225_920+132:250_000]\n",
    "df"
   ],
   "metadata": {
    "collapsed": false,
    "pycharm": {
     "name": "#%%\n"
    }
   }
  },
  {
   "cell_type": "code",
   "execution_count": 2,
   "outputs": [
    {
     "name": "stderr",
     "output_type": "stream",
     "text": [
      " 30%|██▉       | 4325/14450 [2:29:10<5:05:46,  1.81s/it] "
     ]
    },
    {
     "name": "stdout",
     "output_type": "stream",
     "text": [
      "<Response [404]>\n"
     ]
    },
    {
     "name": "stderr",
     "output_type": "stream",
     "text": [
      " 31%|███       | 4493/14450 [2:34:58<6:13:27,  2.25s/it]"
     ]
    },
    {
     "name": "stdout",
     "output_type": "stream",
     "text": [
      "<Response [404]>\n"
     ]
    },
    {
     "name": "stderr",
     "output_type": "stream",
     "text": [
      " 49%|████▉     | 7128/14450 [4:05:38<3:46:40,  1.86s/it]"
     ]
    },
    {
     "name": "stdout",
     "output_type": "stream",
     "text": [
      "<Response [404]>\n"
     ]
    },
    {
     "name": "stderr",
     "output_type": "stream",
     "text": [
      " 50%|█████     | 7288/14450 [4:11:20<3:45:08,  1.89s/it]"
     ]
    },
    {
     "name": "stdout",
     "output_type": "stream",
     "text": [
      "<Response [404]>\n"
     ]
    },
    {
     "name": "stderr",
     "output_type": "stream",
     "text": [
      " 91%|█████████ | 13159/14450 [7:34:21<38:51,  1.81s/it]  "
     ]
    },
    {
     "name": "stdout",
     "output_type": "stream",
     "text": [
      "<Response [404]>\n"
     ]
    },
    {
     "name": "stderr",
     "output_type": "stream",
     "text": [
      " 91%|█████████ | 13160/14450 [7:34:22<33:43,  1.57s/it]"
     ]
    },
    {
     "name": "stdout",
     "output_type": "stream",
     "text": [
      "<Response [404]>\n"
     ]
    },
    {
     "name": "stderr",
     "output_type": "stream",
     "text": [
      "100%|██████████| 14450/14450 [8:19:16<00:00,  2.07s/it]\n"
     ]
    }
   ],
   "source": [
    "df = pd.read_csv('MO MI images - imagesAndNames.csv')\n",
    "df = df[225_920+132+467+592+188+1462+258+184+6135+112+100:250_000]\n",
    "for idx, row in tqdm(df.iterrows(), total=df.shape[0]):\n",
    "    # img_data = requests.get(row.image).content\n",
    "    # with open(f'data/{idx}.jpg', 'wb') as handler:\n",
    "    #     handler.write(img_data)\n",
    "    with open(f'data1/{idx}.jpg', 'wb') as handle:\n",
    "        url = row.image\n",
    "        headers = {'User-Agent': 'Mozilla/5.0 (Macintosh; Intel Mac OS X 10_11_5) AppleWebKit/537.36 (KHTML, like Gecko) Chrome/50.0.2661.102 Safari/537.36'}\n",
    "        response = requests.get(url, headers=headers)\n",
    "\n",
    "        if not response.ok:\n",
    "            print(response)\n",
    "\n",
    "        for block in response.iter_content(1024):\n",
    "            if not block:\n",
    "                break\n",
    "\n",
    "            handle.write(block)"
   ],
   "metadata": {
    "collapsed": false,
    "pycharm": {
     "name": "#%%\n"
    }
   }
  },
  {
   "cell_type": "code",
   "execution_count": 1,
   "outputs": [],
   "source": [],
   "metadata": {
    "collapsed": false,
    "pycharm": {
     "name": "#%%\n"
    }
   }
  },
  {
   "cell_type": "code",
   "execution_count": null,
   "outputs": [],
   "source": [],
   "metadata": {
    "collapsed": false,
    "pycharm": {
     "name": "#%%\n"
    }
   }
  }
 ],
 "metadata": {
  "kernelspec": {
   "display_name": "Python 3",
   "language": "python",
   "name": "python3"
  },
  "language_info": {
   "codemirror_mode": {
    "name": "ipython",
    "version": 2
   },
   "file_extension": ".py",
   "mimetype": "text/x-python",
   "name": "python",
   "nbconvert_exporter": "python",
   "pygments_lexer": "ipython2",
   "version": "2.7.6"
  }
 },
 "nbformat": 4,
 "nbformat_minor": 0
}