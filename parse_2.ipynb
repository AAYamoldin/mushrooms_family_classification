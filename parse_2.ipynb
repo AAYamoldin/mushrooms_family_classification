{
 "cells": [
  {
   "cell_type": "code",
   "execution_count": 1,
   "metadata": {
    "collapsed": true
   },
   "outputs": [
    {
     "name": "stderr",
     "output_type": "stream",
     "text": [
      " 15%|█▌        | 2253/15000 [1:17:13<7:00:00,  1.98s/it]"
     ]
    },
    {
     "name": "stdout",
     "output_type": "stream",
     "text": [
      "<Response [404]>\n"
     ]
    },
    {
     "name": "stderr",
     "output_type": "stream",
     "text": [
      "100%|██████████| 15000/15000 [8:24:44<00:00,  2.02s/it]  \n"
     ]
    }
   ],
   "source": [
    "import requests\n",
    "import pandas as pd\n",
    "from tqdm import tqdm\n",
    "df = pd.read_csv('MO MI images - imagesAndNames.csv')\n",
    "df = df[200_720+50+154+516+605+101+410+226+7205+13:225_000]\n",
    "for idx, row in tqdm(df.iterrows(), total=df.shape[0]):\n",
    "    # img_data = requests.get(row.image).content\n",
    "    # with open(f'data/{idx}.jpg', 'wb') as handler:\n",
    "    #     handler.write(img_data)\n",
    "    with open(f'data1/{idx}.jpg', 'wb') as handle:\n",
    "        url = row.image\n",
    "        headers = {'User-Agent': 'Mozilla/5.0 (Macintosh; Intel Mac OS X 10_11_5) AppleWebKit/537.36 (KHTML, like Gecko) Chrome/50.0.2661.102 Safari/537.36'}\n",
    "        response = requests.get(url, headers=headers)\n",
    "\n",
    "        if not response.ok:\n",
    "            print(response)\n",
    "\n",
    "        for block in response.iter_content(1024):\n",
    "            if not block:\n",
    "                break\n",
    "\n",
    "            handle.write(block)"
   ]
  },
  {
   "cell_type": "code",
   "execution_count": null,
   "metadata": {
    "collapsed": false,
    "pycharm": {
     "name": "#%%\n"
    }
   },
   "outputs": [],
   "source": []
  }
 ],
 "metadata": {
  "kernelspec": {
   "display_name": "Python 3",
   "language": "python",
   "name": "python3"
  },
  "language_info": {
   "codemirror_mode": {
    "name": "ipython",
    "version": 2
   },
   "file_extension": ".py",
   "mimetype": "text/x-python",
   "name": "python",
   "nbconvert_exporter": "python",
   "pygments_lexer": "ipython2",
   "version": "2.7.6"
  }
 },
 "nbformat": 4,
 "nbformat_minor": 0
}
