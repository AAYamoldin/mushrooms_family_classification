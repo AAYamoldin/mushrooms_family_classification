{
 "cells": [
  {
   "cell_type": "code",
   "execution_count": 1,
   "metadata": {
    "collapsed": true,
    "pycharm": {
     "name": "#%%\n"
    }
   },
   "outputs": [
    {
     "ename": "ModuleNotFoundError",
     "evalue": "No module named 'pandas'",
     "output_type": "error",
     "traceback": [
      "\u001B[1;31m---------------------------------------------------------------------------\u001B[0m",
      "\u001B[1;31mModuleNotFoundError\u001B[0m                       Traceback (most recent call last)",
      "Input \u001B[1;32mIn [1]\u001B[0m, in \u001B[0;36m<cell line: 1>\u001B[1;34m()\u001B[0m\n\u001B[1;32m----> 1\u001B[0m \u001B[38;5;28;01mimport\u001B[39;00m \u001B[38;5;21;01mpandas\u001B[39;00m \u001B[38;5;28;01mas\u001B[39;00m \u001B[38;5;21;01mpd\u001B[39;00m\n\u001B[0;32m      2\u001B[0m \u001B[38;5;28;01mimport\u001B[39;00m \u001B[38;5;21;01mglob\u001B[39;00m\n\u001B[0;32m      3\u001B[0m \u001B[38;5;28;01mimport\u001B[39;00m \u001B[38;5;21;01mos\u001B[39;00m\n",
      "\u001B[1;31mModuleNotFoundError\u001B[0m: No module named 'pandas'"
     ]
    }
   ],
   "source": [
    "import pandas as pd\n",
    "import glob\n",
    "import os\n",
    "import keras.applications.efficientnet as efc\n",
    "import zipfile\n",
    "import tensorflow as tf\n",
    "from keras.preprocessing.image import ImageDataGenerator\n",
    "from keras import layers\n",
    "from keras import Model\n",
    "import matplotlib.pyplot as plt\n",
    "from sklearn.model_selection import train_test_split\n",
    "import numpy as np\n",
    "import shutil\n",
    "from tqdm import tqdm\n",
    "print(tf.__version__)"
   ]
  },
  {
   "cell_type": "code",
   "execution_count": 2,
   "outputs": [
    {
     "name": "stdout",
     "output_type": "stream",
     "text": [
      "^C\n"
     ]
    }
   ],
   "source": [
    "!pip install tf-nightly-gpu"
   ],
   "metadata": {
    "collapsed": false,
    "pycharm": {
     "name": "#%%\n"
    }
   }
  },
  {
   "cell_type": "code",
   "execution_count": 6,
   "outputs": [
    {
     "ename": "NameError",
     "evalue": "name 'tf' is not defined",
     "output_type": "error",
     "traceback": [
      "\u001B[1;31m---------------------------------------------------------------------------\u001B[0m",
      "\u001B[1;31mNameError\u001B[0m                                 Traceback (most recent call last)",
      "Input \u001B[1;32mIn [6]\u001B[0m, in \u001B[0;36m<cell line: 2>\u001B[1;34m()\u001B[0m\n\u001B[0;32m      1\u001B[0m \u001B[38;5;66;03m# check if tensorflow see the GPU\u001B[39;00m\n\u001B[1;32m----> 2\u001B[0m \u001B[43mtf\u001B[49m\u001B[38;5;241m.\u001B[39mtest\u001B[38;5;241m.\u001B[39mgpu_device_name()\n",
      "\u001B[1;31mNameError\u001B[0m: name 'tf' is not defined"
     ]
    }
   ],
   "source": [
    "# check if tensorflow see the GPU\n",
    "tf.test.gpu_device_name()"
   ],
   "metadata": {
    "collapsed": false,
    "pycharm": {
     "name": "#%%\n"
    }
   }
  },
  {
   "cell_type": "code",
   "execution_count": 7,
   "outputs": [
    {
     "name": "stdout",
     "output_type": "stream",
     "text": [
      "Sun Jun  5 18:17:18 2022       \n",
      "+-----------------------------------------------------------------------------+\n",
      "| NVIDIA-SMI 512.95       Driver Version: 512.95       CUDA Version: 11.6     |\n",
      "|-------------------------------+----------------------+----------------------+\n",
      "| GPU  Name            TCC/WDDM | Bus-Id        Disp.A | Volatile Uncorr. ECC |\n",
      "| Fan  Temp  Perf  Pwr:Usage/Cap|         Memory-Usage | GPU-Util  Compute M. |\n",
      "|                               |                      |               MIG M. |\n",
      "|===============================+======================+======================|\n",
      "|   0  NVIDIA GeForce ... WDDM  | 00000000:01:00.0  On |                  N/A |\n",
      "| N/A   50C    P8     7W /  N/A |    719MiB /  8192MiB |     14%      Default |\n",
      "|                               |                      |                  N/A |\n",
      "+-------------------------------+----------------------+----------------------+\n",
      "                                                                               \n",
      "+-----------------------------------------------------------------------------+\n",
      "| Processes:                                                                  |\n",
      "|  GPU   GI   CI        PID   Type   Process name                  GPU Memory |\n",
      "|        ID   ID                                                   Usage      |\n",
      "|=============================================================================|\n",
      "|    0   N/A  N/A      6560    C+G   ...perience\\NVIDIA Share.exe    N/A      |\n",
      "|    0   N/A  N/A      6572    C+G   ...e\\root\\Office16\\EXCEL.EXE    N/A      |\n",
      "|    0   N/A  N/A      8696    C+G   ...gram Desktop\\Telegram.exe    N/A      |\n",
      "|    0   N/A  N/A     10744    C+G   ...y\\ShellExperienceHost.exe    N/A      |\n",
      "|    0   N/A  N/A     13920    C+G   ...2txyewy\\TextInputHost.exe    N/A      |\n",
      "|    0   N/A  N/A     18184    C+G   ...lectron\\dist\\electron.exe    N/A      |\n",
      "|    0   N/A  N/A     18324    C+G   ...(x86)\\Adguard\\Adguard.exe    N/A      |\n",
      "|    0   N/A  N/A     19036    C+G   ...bbwe\\Microsoft.Photos.exe    N/A      |\n",
      "|    0   N/A  N/A     22728    C+G   ...210.53\\msedgewebview2.exe    N/A      |\n",
      "|    0   N/A  N/A     23972    C+G   ...artMenuExperienceHost.exe    N/A      |\n",
      "|    0   N/A  N/A     26424    C+G   ...rtiClient\\FortiClient.exe    N/A      |\n",
      "|    0   N/A  N/A     27092    C+G   ...3\\jbr\\bin\\jcef_helper.exe    N/A      |\n",
      "|    0   N/A  N/A     29108    C+G   C:\\Windows\\explorer.exe         N/A      |\n",
      "|    0   N/A  N/A     29844    C+G   ...root\\Office16\\WINWORD.EXE    N/A      |\n",
      "|    0   N/A  N/A     31064    C+G   ...5n1h2txyewy\\SearchApp.exe    N/A      |\n",
      "|    0   N/A  N/A     34028    C+G   ...cd70vzyy\\ArmouryCrate.exe    N/A      |\n",
      "|    0   N/A  N/A     38176    C+G   ...qxf38zg5c\\Skype\\Skype.exe    N/A      |\n",
      "+-----------------------------------------------------------------------------+\n"
     ]
    }
   ],
   "source": [
    "# check name of GPU\n",
    "!nvidia-smi"
   ],
   "metadata": {
    "collapsed": false,
    "pycharm": {
     "name": "#%%\n"
    }
   }
  },
  {
   "cell_type": "code",
   "execution_count": 8,
   "outputs": [
    {
     "data": {
      "text/plain": "                                                    image  \\\n0           https://mushroomobserver.org/images/640/2.jpg   \n1          https://mushroomobserver.org/images/640/16.jpg   \n2          https://mushroomobserver.org/images/640/26.jpg   \n3          https://mushroomobserver.org/images/640/36.jpg   \n4          https://mushroomobserver.org/images/640/37.jpg   \n...                                                   ...   \n254917  https://mushroomobserver.org/images/640/131437...   \n254918  https://mushroomobserver.org/images/640/131437...   \n254919  https://mushroomobserver.org/images/640/131437...   \n254920                                                NaN   \n254921                                                NaN   \n\n                              name     created  \\\n0                Xylaria magnoliae  2004-07-17   \n1       Volvopluteus gloiocephalus  2005-01-07   \n2               Panellus stipticus  2004-11-26   \n3                 Sutorius eximius  2004-07-14   \n4                 Harrya chromapes  1994-09-15   \n...                            ...         ...   \n254917     Laricifomes officinalis  2021-03-10   \n254918     Laricifomes officinalis  2021-03-10   \n254919     Laricifomes officinalis  2021-03-10   \n254920                         NaN         NaN   \n254921                         NaN         NaN   \n\n                                               license   rightsHolder  \n0       http://creativecommons.org/licenses/by-sa/3.0/  Nathan Wilson  \n1       http://creativecommons.org/licenses/by-sa/3.0/  Nathan Wilson  \n2       http://creativecommons.org/licenses/by-sa/3.0/  Nathan Wilson  \n3       http://creativecommons.org/licenses/by-sa/3.0/  Nathan Wilson  \n4       http://creativecommons.org/licenses/by-sa/3.0/  Nathan Wilson  \n...                                                ...            ...  \n254917  http://creativecommons.org/licenses/by-sa/3.0/          -Josh  \n254918  http://creativecommons.org/licenses/by-sa/3.0/          -Josh  \n254919  http://creativecommons.org/licenses/by-sa/3.0/          -Josh  \n254920                                             NaN            NaN  \n254921                                             NaN            NaN  \n\n[254922 rows x 5 columns]",
      "text/html": "<div>\n<style scoped>\n    .dataframe tbody tr th:only-of-type {\n        vertical-align: middle;\n    }\n\n    .dataframe tbody tr th {\n        vertical-align: top;\n    }\n\n    .dataframe thead th {\n        text-align: right;\n    }\n</style>\n<table border=\"1\" class=\"dataframe\">\n  <thead>\n    <tr style=\"text-align: right;\">\n      <th></th>\n      <th>image</th>\n      <th>name</th>\n      <th>created</th>\n      <th>license</th>\n      <th>rightsHolder</th>\n    </tr>\n  </thead>\n  <tbody>\n    <tr>\n      <th>0</th>\n      <td>https://mushroomobserver.org/images/640/2.jpg</td>\n      <td>Xylaria magnoliae</td>\n      <td>2004-07-17</td>\n      <td>http://creativecommons.org/licenses/by-sa/3.0/</td>\n      <td>Nathan Wilson</td>\n    </tr>\n    <tr>\n      <th>1</th>\n      <td>https://mushroomobserver.org/images/640/16.jpg</td>\n      <td>Volvopluteus gloiocephalus</td>\n      <td>2005-01-07</td>\n      <td>http://creativecommons.org/licenses/by-sa/3.0/</td>\n      <td>Nathan Wilson</td>\n    </tr>\n    <tr>\n      <th>2</th>\n      <td>https://mushroomobserver.org/images/640/26.jpg</td>\n      <td>Panellus stipticus</td>\n      <td>2004-11-26</td>\n      <td>http://creativecommons.org/licenses/by-sa/3.0/</td>\n      <td>Nathan Wilson</td>\n    </tr>\n    <tr>\n      <th>3</th>\n      <td>https://mushroomobserver.org/images/640/36.jpg</td>\n      <td>Sutorius eximius</td>\n      <td>2004-07-14</td>\n      <td>http://creativecommons.org/licenses/by-sa/3.0/</td>\n      <td>Nathan Wilson</td>\n    </tr>\n    <tr>\n      <th>4</th>\n      <td>https://mushroomobserver.org/images/640/37.jpg</td>\n      <td>Harrya chromapes</td>\n      <td>1994-09-15</td>\n      <td>http://creativecommons.org/licenses/by-sa/3.0/</td>\n      <td>Nathan Wilson</td>\n    </tr>\n    <tr>\n      <th>...</th>\n      <td>...</td>\n      <td>...</td>\n      <td>...</td>\n      <td>...</td>\n      <td>...</td>\n    </tr>\n    <tr>\n      <th>254917</th>\n      <td>https://mushroomobserver.org/images/640/131437...</td>\n      <td>Laricifomes officinalis</td>\n      <td>2021-03-10</td>\n      <td>http://creativecommons.org/licenses/by-sa/3.0/</td>\n      <td>-Josh</td>\n    </tr>\n    <tr>\n      <th>254918</th>\n      <td>https://mushroomobserver.org/images/640/131437...</td>\n      <td>Laricifomes officinalis</td>\n      <td>2021-03-10</td>\n      <td>http://creativecommons.org/licenses/by-sa/3.0/</td>\n      <td>-Josh</td>\n    </tr>\n    <tr>\n      <th>254919</th>\n      <td>https://mushroomobserver.org/images/640/131437...</td>\n      <td>Laricifomes officinalis</td>\n      <td>2021-03-10</td>\n      <td>http://creativecommons.org/licenses/by-sa/3.0/</td>\n      <td>-Josh</td>\n    </tr>\n    <tr>\n      <th>254920</th>\n      <td>NaN</td>\n      <td>NaN</td>\n      <td>NaN</td>\n      <td>NaN</td>\n      <td>NaN</td>\n    </tr>\n    <tr>\n      <th>254921</th>\n      <td>NaN</td>\n      <td>NaN</td>\n      <td>NaN</td>\n      <td>NaN</td>\n      <td>NaN</td>\n    </tr>\n  </tbody>\n</table>\n<p>254922 rows × 5 columns</p>\n</div>"
     },
     "execution_count": 8,
     "metadata": {},
     "output_type": "execute_result"
    }
   ],
   "source": [
    "#читаем датасет\n",
    "df = pd.read_csv('MO MI images - imagesAndNames.csv')\n",
    "df"
   ],
   "metadata": {
    "collapsed": false,
    "pycharm": {
     "name": "#%%\n"
    }
   }
  },
  {
   "cell_type": "code",
   "execution_count": 9,
   "outputs": [],
   "source": [
    "# Получаем список фото, которые у нас имеются на данный момент\n",
    "jpgFilenamesList = glob.glob('./data/*.jpg')\n",
    "photos = []\n",
    "for i in jpgFilenamesList:\n",
    "    photos.append(int((os.path.basename(i))[:-4]))"
   ],
   "metadata": {
    "collapsed": false,
    "pycharm": {
     "name": "#%%\n"
    }
   }
  },
  {
   "cell_type": "code",
   "execution_count": 7,
   "outputs": [],
   "source": [
    "# Перекраиваем датасет под имеющиеся у нас фото\n",
    "df_exist_photos = df[df.index.isin(photos)]"
   ],
   "metadata": {
    "collapsed": false,
    "pycharm": {
     "name": "#%%\n"
    }
   }
  },
  {
   "cell_type": "code",
   "execution_count": 8,
   "outputs": [
    {
     "data": {
      "text/plain": "Psilocybe              8230\nAmanita                6843\nRussula                6101\nCortinarius            4161\nMycena                 3223\n                       ... \nComatricha                7\nLignoscripta              7\nCyclaneusma               7\nLobothallia               7\nNothophaeocryptopus       7\nName: name, Length: 1000, dtype: int64"
     },
     "execution_count": 8,
     "metadata": {},
     "output_type": "execute_result"
    }
   ],
   "source": [
    "# Составим топ-1000 семейств в имеющимся у нас датасете\n",
    "families = df_exist_photos['name'].str.split(n=1).str[0].value_counts()[:1000]\n",
    "families"
   ],
   "metadata": {
    "collapsed": false,
    "pycharm": {
     "name": "#%%\n"
    }
   }
  },
  {
   "cell_type": "code",
   "execution_count": 9,
   "outputs": [
    {
     "data": {
      "text/plain": "148538"
     },
     "execution_count": 9,
     "metadata": {},
     "output_type": "execute_result"
    }
   ],
   "source": [
    "# Рассмотрим сколько фотографий топ-1000 семейств имеется\n",
    "families.sum()"
   ],
   "metadata": {
    "collapsed": false,
    "pycharm": {
     "name": "#%%\n"
    }
   }
  },
  {
   "cell_type": "code",
   "execution_count": 10,
   "outputs": [
    {
     "data": {
      "text/plain": "                                                    image           name  \\\n16         https://mushroomobserver.org/images/640/88.jpg  Strobilomyces   \n17         https://mushroomobserver.org/images/640/90.jpg  Strobilomyces   \n29        https://mushroomobserver.org/images/640/159.jpg    Coprinopsis   \n60        https://mushroomobserver.org/images/640/394.jpg       Helvella   \n62        https://mushroomobserver.org/images/640/396.jpg       Helvella   \n...                                                   ...            ...   \n249740  https://mushroomobserver.org/images/640/128114...        Inocybe   \n249741  https://mushroomobserver.org/images/640/128114...        Inocybe   \n249742  https://mushroomobserver.org/images/640/128167...        Inocybe   \n249743  https://mushroomobserver.org/images/640/128167...        Inocybe   \n249966  https://mushroomobserver.org/images/640/128206...       Hebeloma   \n\n           created                                            license  \\\n16      2004-07-21     http://creativecommons.org/licenses/by-sa/3.0/   \n17      1994-09-15     http://creativecommons.org/licenses/by-sa/3.0/   \n29      1994-02-15     http://creativecommons.org/licenses/by-sa/3.0/   \n60      2005-01-07     http://creativecommons.org/licenses/by-sa/3.0/   \n62      2005-02-05     http://creativecommons.org/licenses/by-sa/3.0/   \n...            ...                                                ...   \n249740  2020-10-30     http://creativecommons.org/licenses/by-sa/3.0/   \n249741  2020-10-30     http://creativecommons.org/licenses/by-sa/3.0/   \n249742  2020-10-30     http://creativecommons.org/licenses/by-sa/3.0/   \n249743  2020-10-30     http://creativecommons.org/licenses/by-sa/3.0/   \n249966  2020-11-22  http://creativecommons.org/licenses/by-nc-sa/3.0/   \n\n          rightsHolder  \n16       Nathan Wilson  \n17       Nathan Wilson  \n29       Nathan Wilson  \n60       Nathan Wilson  \n62       Nathan Wilson  \n...                ...  \n249740  Drew Henderson  \n249741  Drew Henderson  \n249742  Drew Henderson  \n249743  Drew Henderson  \n249966      Mike Potts  \n\n[17865 rows x 5 columns]",
      "text/html": "<div>\n<style scoped>\n    .dataframe tbody tr th:only-of-type {\n        vertical-align: middle;\n    }\n\n    .dataframe tbody tr th {\n        vertical-align: top;\n    }\n\n    .dataframe thead th {\n        text-align: right;\n    }\n</style>\n<table border=\"1\" class=\"dataframe\">\n  <thead>\n    <tr style=\"text-align: right;\">\n      <th></th>\n      <th>image</th>\n      <th>name</th>\n      <th>created</th>\n      <th>license</th>\n      <th>rightsHolder</th>\n    </tr>\n  </thead>\n  <tbody>\n    <tr>\n      <th>16</th>\n      <td>https://mushroomobserver.org/images/640/88.jpg</td>\n      <td>Strobilomyces</td>\n      <td>2004-07-21</td>\n      <td>http://creativecommons.org/licenses/by-sa/3.0/</td>\n      <td>Nathan Wilson</td>\n    </tr>\n    <tr>\n      <th>17</th>\n      <td>https://mushroomobserver.org/images/640/90.jpg</td>\n      <td>Strobilomyces</td>\n      <td>1994-09-15</td>\n      <td>http://creativecommons.org/licenses/by-sa/3.0/</td>\n      <td>Nathan Wilson</td>\n    </tr>\n    <tr>\n      <th>29</th>\n      <td>https://mushroomobserver.org/images/640/159.jpg</td>\n      <td>Coprinopsis</td>\n      <td>1994-02-15</td>\n      <td>http://creativecommons.org/licenses/by-sa/3.0/</td>\n      <td>Nathan Wilson</td>\n    </tr>\n    <tr>\n      <th>60</th>\n      <td>https://mushroomobserver.org/images/640/394.jpg</td>\n      <td>Helvella</td>\n      <td>2005-01-07</td>\n      <td>http://creativecommons.org/licenses/by-sa/3.0/</td>\n      <td>Nathan Wilson</td>\n    </tr>\n    <tr>\n      <th>62</th>\n      <td>https://mushroomobserver.org/images/640/396.jpg</td>\n      <td>Helvella</td>\n      <td>2005-02-05</td>\n      <td>http://creativecommons.org/licenses/by-sa/3.0/</td>\n      <td>Nathan Wilson</td>\n    </tr>\n    <tr>\n      <th>...</th>\n      <td>...</td>\n      <td>...</td>\n      <td>...</td>\n      <td>...</td>\n      <td>...</td>\n    </tr>\n    <tr>\n      <th>249740</th>\n      <td>https://mushroomobserver.org/images/640/128114...</td>\n      <td>Inocybe</td>\n      <td>2020-10-30</td>\n      <td>http://creativecommons.org/licenses/by-sa/3.0/</td>\n      <td>Drew Henderson</td>\n    </tr>\n    <tr>\n      <th>249741</th>\n      <td>https://mushroomobserver.org/images/640/128114...</td>\n      <td>Inocybe</td>\n      <td>2020-10-30</td>\n      <td>http://creativecommons.org/licenses/by-sa/3.0/</td>\n      <td>Drew Henderson</td>\n    </tr>\n    <tr>\n      <th>249742</th>\n      <td>https://mushroomobserver.org/images/640/128167...</td>\n      <td>Inocybe</td>\n      <td>2020-10-30</td>\n      <td>http://creativecommons.org/licenses/by-sa/3.0/</td>\n      <td>Drew Henderson</td>\n    </tr>\n    <tr>\n      <th>249743</th>\n      <td>https://mushroomobserver.org/images/640/128167...</td>\n      <td>Inocybe</td>\n      <td>2020-10-30</td>\n      <td>http://creativecommons.org/licenses/by-sa/3.0/</td>\n      <td>Drew Henderson</td>\n    </tr>\n    <tr>\n      <th>249966</th>\n      <td>https://mushroomobserver.org/images/640/128206...</td>\n      <td>Hebeloma</td>\n      <td>2020-11-22</td>\n      <td>http://creativecommons.org/licenses/by-nc-sa/3.0/</td>\n      <td>Mike Potts</td>\n    </tr>\n  </tbody>\n</table>\n<p>17865 rows × 5 columns</p>\n</div>"
     },
     "execution_count": 10,
     "metadata": {},
     "output_type": "execute_result"
    }
   ],
   "source": [
    "# Составим датасет, состоящий только из топ-100 грибных семейств\n",
    "top_1000 = df_exist_photos[df_exist_photos.name.isin(families.index)]\n",
    "top_1000"
   ],
   "metadata": {
    "collapsed": false,
    "pycharm": {
     "name": "#%%\n"
    }
   }
  },
  {
   "cell_type": "code",
   "execution_count": 10,
   "outputs": [],
   "source": [],
   "metadata": {
    "collapsed": false,
    "pycharm": {
     "name": "#%%\n"
    }
   }
  },
  {
   "cell_type": "code",
   "execution_count": 11,
   "outputs": [
    {
     "data": {
      "text/plain": "        index           name\n0          16  Strobilomyces\n1          17  Strobilomyces\n2          29    Coprinopsis\n3          60       Helvella\n4          62       Helvella\n...       ...            ...\n17860  249740        Inocybe\n17861  249741        Inocybe\n17862  249742        Inocybe\n17863  249743        Inocybe\n17864  249966       Hebeloma\n\n[17865 rows x 2 columns]",
      "text/html": "<div>\n<style scoped>\n    .dataframe tbody tr th:only-of-type {\n        vertical-align: middle;\n    }\n\n    .dataframe tbody tr th {\n        vertical-align: top;\n    }\n\n    .dataframe thead th {\n        text-align: right;\n    }\n</style>\n<table border=\"1\" class=\"dataframe\">\n  <thead>\n    <tr style=\"text-align: right;\">\n      <th></th>\n      <th>index</th>\n      <th>name</th>\n    </tr>\n  </thead>\n  <tbody>\n    <tr>\n      <th>0</th>\n      <td>16</td>\n      <td>Strobilomyces</td>\n    </tr>\n    <tr>\n      <th>1</th>\n      <td>17</td>\n      <td>Strobilomyces</td>\n    </tr>\n    <tr>\n      <th>2</th>\n      <td>29</td>\n      <td>Coprinopsis</td>\n    </tr>\n    <tr>\n      <th>3</th>\n      <td>60</td>\n      <td>Helvella</td>\n    </tr>\n    <tr>\n      <th>4</th>\n      <td>62</td>\n      <td>Helvella</td>\n    </tr>\n    <tr>\n      <th>...</th>\n      <td>...</td>\n      <td>...</td>\n    </tr>\n    <tr>\n      <th>17860</th>\n      <td>249740</td>\n      <td>Inocybe</td>\n    </tr>\n    <tr>\n      <th>17861</th>\n      <td>249741</td>\n      <td>Inocybe</td>\n    </tr>\n    <tr>\n      <th>17862</th>\n      <td>249742</td>\n      <td>Inocybe</td>\n    </tr>\n    <tr>\n      <th>17863</th>\n      <td>249743</td>\n      <td>Inocybe</td>\n    </tr>\n    <tr>\n      <th>17864</th>\n      <td>249966</td>\n      <td>Hebeloma</td>\n    </tr>\n  </tbody>\n</table>\n<p>17865 rows × 2 columns</p>\n</div>"
     },
     "execution_count": 11,
     "metadata": {},
     "output_type": "execute_result"
    }
   ],
   "source": [
    "# Оставим в датасете только всё самое необходимое: индекс и имя семейства, а также удалим пустое\n",
    "\n",
    "top_1000 = top_1000.rename_axis('index').reset_index()\n",
    "top_1000 = top_1000[['index', 'name']]\n",
    "top_1000.dropna(inplace=True)\n",
    "top_1000"
   ],
   "metadata": {
    "collapsed": false,
    "pycharm": {
     "name": "#%%\n"
    }
   }
  },
  {
   "cell_type": "code",
   "execution_count": 12,
   "outputs": [
    {
     "name": "stderr",
     "output_type": "stream",
     "text": [
      "  0%|          | 0/1000 [00:00<?, ?it/s]\n"
     ]
    },
    {
     "ename": "FileExistsError",
     "evalue": "[WinError 183] Невозможно создать файл, так как он уже существует: 'data_train/Psilocybe'",
     "output_type": "error",
     "traceback": [
      "\u001B[1;31m---------------------------------------------------------------------------\u001B[0m",
      "\u001B[1;31mFileExistsError\u001B[0m                           Traceback (most recent call last)",
      "Input \u001B[1;32mIn [12]\u001B[0m, in \u001B[0;36m<cell line: 3>\u001B[1;34m()\u001B[0m\n\u001B[0;32m      1\u001B[0m \u001B[38;5;66;03m### Раскидаем картинки этого датасета по директориям\u001B[39;00m\n\u001B[0;32m      3\u001B[0m \u001B[38;5;28;01mfor\u001B[39;00m family \u001B[38;5;129;01min\u001B[39;00m tqdm(families\u001B[38;5;241m.\u001B[39mindex):\n\u001B[1;32m----> 4\u001B[0m     \u001B[43mos\u001B[49m\u001B[38;5;241;43m.\u001B[39;49m\u001B[43mmkdir\u001B[49m\u001B[43m(\u001B[49m\u001B[38;5;124;43mf\u001B[39;49m\u001B[38;5;124;43m\"\u001B[39;49m\u001B[38;5;124;43mdata_train/\u001B[39;49m\u001B[38;5;132;43;01m{\u001B[39;49;00m\u001B[43mfamily\u001B[49m\u001B[38;5;132;43;01m}\u001B[39;49;00m\u001B[38;5;124;43m\"\u001B[39;49m\u001B[43m)\u001B[49m\n\u001B[0;32m      5\u001B[0m     \u001B[38;5;28;01mfor\u001B[39;00m idx, row \u001B[38;5;129;01min\u001B[39;00m top_1000[top_1000[\u001B[38;5;124m'\u001B[39m\u001B[38;5;124mname\u001B[39m\u001B[38;5;124m'\u001B[39m] \u001B[38;5;241m==\u001B[39m family]\u001B[38;5;241m.\u001B[39miterrows():\n\u001B[0;32m      6\u001B[0m         shutil\u001B[38;5;241m.\u001B[39mcopy(\u001B[38;5;124mf\u001B[39m\u001B[38;5;124m'\u001B[39m\u001B[38;5;124mdata/\u001B[39m\u001B[38;5;132;01m{\u001B[39;00mrow[\u001B[38;5;124m\"\u001B[39m\u001B[38;5;124mindex\u001B[39m\u001B[38;5;124m\"\u001B[39m]\u001B[38;5;132;01m}\u001B[39;00m\u001B[38;5;124m.jpg\u001B[39m\u001B[38;5;124m'\u001B[39m, \u001B[38;5;124mf\u001B[39m\u001B[38;5;124m'\u001B[39m\u001B[38;5;124mdata_train/\u001B[39m\u001B[38;5;132;01m{\u001B[39;00mfamily\u001B[38;5;132;01m}\u001B[39;00m\u001B[38;5;124m/\u001B[39m\u001B[38;5;132;01m{\u001B[39;00mrow[\u001B[38;5;124m\"\u001B[39m\u001B[38;5;124mindex\u001B[39m\u001B[38;5;124m\"\u001B[39m]\u001B[38;5;132;01m}\u001B[39;00m\u001B[38;5;124m.jpg\u001B[39m\u001B[38;5;124m'\u001B[39m)\n",
      "\u001B[1;31mFileExistsError\u001B[0m: [WinError 183] Невозможно создать файл, так как он уже существует: 'data_train/Psilocybe'"
     ]
    }
   ],
   "source": [
    "### Раскидаем картинки этого датасета по директориям\n",
    "\n",
    "for family in tqdm(families.index):\n",
    "    os.mkdir(f\"data_train/{family}\")\n",
    "    for idx, row in top_1000[top_1000['name'] == family].iterrows():\n",
    "        shutil.copy(f'data/{row[\"index\"]}.jpg', f'data_train/{family}/{row[\"index\"]}.jpg')"
   ],
   "metadata": {
    "collapsed": false,
    "pycharm": {
     "name": "#%%\n"
    }
   }
  },
  {
   "cell_type": "code",
   "execution_count": 13,
   "outputs": [],
   "source": [
    "# # Имя семейства это категориальный признак, поэтому делаем LAbelEncoding\n",
    "# kek = pd.get_dummies(top_10[['name']])\n",
    "# top_10 = pd.concat([top_10, kek], axis=1)\n",
    "# top_10"
   ],
   "metadata": {
    "collapsed": false,
    "pycharm": {
     "name": "#%%\n"
    }
   }
  },
  {
   "cell_type": "code",
   "execution_count": 14,
   "outputs": [],
   "source": [
    "# разделим набор данных train, validation\n",
    "# train, test = train_test_split(top_10, test_size=0.2, stratify=kek)"
   ],
   "metadata": {
    "collapsed": false,
    "pycharm": {
     "name": "#%%\n"
    }
   }
  },
  {
   "cell_type": "code",
   "execution_count": 15,
   "outputs": [],
   "source": [
    "# train"
   ],
   "metadata": {
    "collapsed": false,
    "pycharm": {
     "name": "#%%\n"
    }
   }
  },
  {
   "cell_type": "code",
   "execution_count": 16,
   "outputs": [],
   "source": [
    "# test"
   ],
   "metadata": {
    "collapsed": false,
    "pycharm": {
     "name": "#%%\n"
    }
   }
  },
  {
   "cell_type": "code",
   "execution_count": 17,
   "outputs": [],
   "source": [
    "# Создадим модель import tensorflow as tf\n",
    "IMG_SIZE = 224\n",
    "def build_model(num_classes, img_size=IMG_SIZE):\n",
    "    input = tf.keras.layers.Input(shape=(img_size, img_size, 3))\n",
    "    model = tf.keras.applications.EfficientNetB3(include_top=False, input_tensor=input, weights=\"imagenet\")\n",
    "\n",
    "    # Freeze the pretrained weights\n",
    "    model.trainable = False\n",
    "\n",
    "    # Rebuild top\n",
    "    x = tf.keras.layers.GlobalAveragePooling2D(name=\"avg_pool\")(model.output)\n",
    "    x = tf.keras.layers.BatchNormalization()(x)\n",
    "\n",
    "    top_dropout_rate = 0.2\n",
    "    x = tf.keras.layers.Dropout(top_dropout_rate, name=\"top_dropout\")(x)\n",
    "    output = tf.keras.layers.Dense(num_classes, activation=\"softmax\", name=\"pred\")(x)\n",
    "\n",
    "    # Compile\n",
    "    model = tf.keras.Model(input, output, name=\"EfficientNet\")\n",
    "    model.compile(optimizer='adam', loss=\"sparse_categorical_crossentropy\", metrics=[\"sparse_categorical_accuracy\"])\n",
    "    return model"
   ],
   "metadata": {
    "collapsed": false,
    "pycharm": {
     "name": "#%%\n"
    }
   }
  },
  {
   "cell_type": "code",
   "execution_count": 18,
   "outputs": [],
   "source": [
    "#\n",
    "def use_keras_new(path):\n",
    "    keras_ds = tf.keras.preprocessing.image_dataset_from_directory(path, batch_size=32, image_size=(IMG_SIZE, IMG_SIZE))\n",
    "    keras_ds = keras_ds.prefetch(buffer_size=tf.data.experimental.AUTOTUNE)\n",
    "\n",
    "    num_classes = len(os.listdir(path))\n",
    "    model = build_model(num_classes)\n",
    "\n",
    "    model.fit(keras_ds, batch_size=32, epochs=5)"
   ],
   "metadata": {
    "collapsed": false,
    "pycharm": {
     "name": "#%%\n"
    }
   }
  },
  {
   "cell_type": "code",
   "execution_count": null,
   "outputs": [
    {
     "name": "stdout",
     "output_type": "stream",
     "text": [
      "Found 17865 files belonging to 1000 classes.\n",
      "Epoch 1/5\n"
     ]
    }
   ],
   "source": [
    "use_keras_new('data_train')"
   ],
   "metadata": {
    "collapsed": false,
    "pycharm": {
     "name": "#%%\n",
     "is_executing": true
    }
   }
  },
  {
   "cell_type": "code",
   "execution_count": null,
   "outputs": [],
   "source": [],
   "metadata": {
    "collapsed": false,
    "pycharm": {
     "name": "#%%\n"
    }
   }
  }
 ],
 "metadata": {
  "kernelspec": {
   "display_name": "Python 3",
   "language": "python",
   "name": "python3"
  },
  "language_info": {
   "codemirror_mode": {
    "name": "ipython",
    "version": 2
   },
   "file_extension": ".py",
   "mimetype": "text/x-python",
   "name": "python",
   "nbconvert_exporter": "python",
   "pygments_lexer": "ipython2",
   "version": "2.7.6"
  }
 },
 "nbformat": 4,
 "nbformat_minor": 0
}