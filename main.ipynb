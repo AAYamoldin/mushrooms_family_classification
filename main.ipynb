{
 "cells": [
  {
   "cell_type": "code",
   "execution_count": 27,
   "metadata": {
    "pycharm": {
     "name": "#%%\n"
    },
    "tags": []
   },
   "outputs": [
    {
     "name": "stdout",
     "output_type": "stream",
     "text": [
      "2.3.0\n"
     ]
    }
   ],
   "source": [
    "import pandas as pd\n",
    "import glob\n",
    "import os\n",
    "# import keras.applications.efficientnet as efc\n",
    "from tensorflow.python.keras.applications.efficientnet import *\n",
    "import zipfile\n",
    "import tensorflow as tf\n",
    "from keras.preprocessing.image import ImageDataGenerator\n",
    "from keras import layers\n",
    "from keras import Model\n",
    "import matplotlib.pyplot as plt\n",
    "#from sklearn.model_selection import train_test_split\n",
    "import numpy as np\n",
    "import shutil\n",
    "from tqdm import tqdm\n",
    "print(tf.__version__)"
   ]
  },
  {
   "cell_type": "code",
   "execution_count": 26,
   "outputs": [
    {
     "name": "stdout",
     "output_type": "stream",
     "text": [
      "Collecting package metadata (current_repodata.json): ...working... done\n",
      "Solving environment: ...working... done\n",
      "\n",
      "\n",
      "Note: you may need to restart the kernel to use updated packages.# All requested packages already installed.\n",
      "\n",
      "\n"
     ]
    }
   ],
   "source": [
    "# conda install matplotlib"
   ],
   "metadata": {
    "collapsed": false,
    "pycharm": {
     "name": "#%%\n"
    }
   }
  },
  {
   "cell_type": "code",
   "execution_count": 1,
   "outputs": [
    {
     "name": "stdout",
     "output_type": "stream",
     "text": [
      "Collecting package metadata (current_repodata.json): ...working... done\n",
      "Solving environment: ...working... failed with initial frozen solve. Retrying with flexible solve.\n",
      "Collecting package metadata (repodata.json): ...working... done\n",
      "Solving environment: ...working... done\n",
      "\n",
      "## Package Plan ##\n",
      "\n",
      "  environment location: C:\\Users\\gto_n\\anaconda3\\envs\\mushrooms_family_classification\n",
      "\n",
      "  added / updated specs:\n",
      "    - tensorflow==2.3.0\n",
      "\n",
      "\n",
      "The following packages will be downloaded:\n",
      "\n",
      "    package                    |            build\n",
      "    ---------------------------|-----------------\n",
      "    absl-py-0.15.0             |     pyhd3eb1b0_0         103 KB\n",
      "    aiohttp-3.8.1              |   py37h2bbff1b_1         492 KB\n",
      "    aiosignal-1.2.0            |     pyhd3eb1b0_0          12 KB\n",
      "    astor-0.8.1                |   py37haa95532_0          47 KB\n",
      "    astunparse-1.6.3           |             py_0          17 KB\n",
      "    async-timeout-4.0.1        |     pyhd3eb1b0_0          10 KB\n",
      "    asynctest-0.13.0           |             py_0          26 KB\n",
      "    blinker-1.4                |   py37haa95532_0          23 KB\n",
      "    brotlipy-0.7.0             |py37h2bbff1b_1003         337 KB\n",
      "    cachetools-4.2.2           |     pyhd3eb1b0_0          13 KB\n",
      "    charset-normalizer-2.0.4   |     pyhd3eb1b0_0          35 KB\n",
      "    click-8.0.4                |   py37haa95532_0         153 KB\n",
      "    dataclasses-0.8            |     pyh6d0b6a4_7           8 KB\n",
      "    frozenlist-1.2.0           |   py37h2bbff1b_0          76 KB\n",
      "    gast-0.3.3                 |             py_0          14 KB\n",
      "    google-auth-2.6.0          |     pyhd3eb1b0_0          83 KB\n",
      "    google-auth-oauthlib-0.4.4 |     pyhd3eb1b0_0          18 KB\n",
      "    google-pasta-0.2.0         |     pyhd3eb1b0_0          46 KB\n",
      "    grpcio-1.42.0              |   py37hc60d5dd_0         1.8 MB\n",
      "    h5py-2.10.0                |   py37h5e291fa_0         808 KB\n",
      "    hdf5-1.10.4                |       h7ebc959_0         7.9 MB\n",
      "    icc_rt-2019.0.0            |       h0cc432a_1         6.0 MB\n",
      "    idna-3.3                   |     pyhd3eb1b0_0          49 KB\n",
      "    keras-applications-1.0.8   |             py_1          29 KB\n",
      "    keras-preprocessing-1.1.2  |     pyhd3eb1b0_0          35 KB\n",
      "    markdown-3.3.4             |   py37haa95532_0         144 KB\n",
      "    multidict-5.1.0            |   py37h2bbff1b_2          85 KB\n",
      "    opt_einsum-3.3.0           |     pyhd3eb1b0_1          57 KB\n",
      "    pyasn1-0.4.8               |     pyhd3eb1b0_0          54 KB\n",
      "    pyasn1-modules-0.2.8       |             py_0          72 KB\n",
      "    pyreadline-2.1             |           py37_1         143 KB\n",
      "    pysocks-1.7.1              |           py37_1          28 KB\n",
      "    requests-2.27.1            |     pyhd3eb1b0_0          54 KB\n",
      "    requests-oauthlib-1.3.0    |             py_0          23 KB\n",
      "    rsa-4.7.2                  |     pyhd3eb1b0_1          28 KB\n",
      "    scipy-1.7.3                |   py37h0a974cb_0        13.8 MB\n",
      "    tensorboard-2.4.0          |     pyhc547734_0         8.8 MB\n",
      "    tensorboard-plugin-wit-1.6.0|             py_0         630 KB\n",
      "    tensorflow-2.3.0           |mkl_py37h856240d_0           6 KB\n",
      "    tensorflow-base-2.3.0      |gpu_py37h18d21e4_0       172.3 MB\n",
      "    tensorflow-estimator-2.6.0 |     pyh7b7c402_0         267 KB\n",
      "    termcolor-1.1.0            |   py37haa95532_1           9 KB\n",
      "    urllib3-1.26.9             |   py37haa95532_0         188 KB\n",
      "    werkzeug-2.0.3             |     pyhd3eb1b0_0         221 KB\n",
      "    win_inet_pton-1.1.0        |   py37haa95532_0          35 KB\n",
      "    wrapt-1.13.3               |   py37h2bbff1b_2          50 KB\n",
      "    yarl-1.6.3                 |   py37h2bbff1b_0         151 KB\n",
      "    ------------------------------------------------------------\n",
      "                                           Total:       215.2 MB\n",
      "\n",
      "The following NEW packages will be INSTALLED:\n",
      "\n",
      "  _tflow_select      pkgs/main/win-64::_tflow_select-2.3.0-eigen\n",
      "  absl-py            pkgs/main/noarch::absl-py-0.15.0-pyhd3eb1b0_0\n",
      "  aiohttp            pkgs/main/win-64::aiohttp-3.8.1-py37h2bbff1b_1\n",
      "  aiosignal          pkgs/main/noarch::aiosignal-1.2.0-pyhd3eb1b0_0\n",
      "  astor              pkgs/main/win-64::astor-0.8.1-py37haa95532_0\n",
      "  astunparse         pkgs/main/noarch::astunparse-1.6.3-py_0\n",
      "  async-timeout      pkgs/main/noarch::async-timeout-4.0.1-pyhd3eb1b0_0\n",
      "  asynctest          pkgs/main/noarch::asynctest-0.13.0-py_0\n",
      "  blinker            pkgs/main/win-64::blinker-1.4-py37haa95532_0\n",
      "  brotlipy           pkgs/main/win-64::brotlipy-0.7.0-py37h2bbff1b_1003\n",
      "  cachetools         pkgs/main/noarch::cachetools-4.2.2-pyhd3eb1b0_0\n",
      "  charset-normalizer pkgs/main/noarch::charset-normalizer-2.0.4-pyhd3eb1b0_0\n",
      "  click              pkgs/main/win-64::click-8.0.4-py37haa95532_0\n",
      "  cryptography       pkgs/main/win-64::cryptography-3.4.8-py37h71e12ea_0\n",
      "  dataclasses        pkgs/main/noarch::dataclasses-0.8-pyh6d0b6a4_7\n",
      "  frozenlist         pkgs/main/win-64::frozenlist-1.2.0-py37h2bbff1b_0\n",
      "  gast               pkgs/main/noarch::gast-0.3.3-py_0\n",
      "  google-auth        pkgs/main/noarch::google-auth-2.6.0-pyhd3eb1b0_0\n",
      "  google-auth-oauth~ pkgs/main/noarch::google-auth-oauthlib-0.4.4-pyhd3eb1b0_0\n",
      "  google-pasta       pkgs/main/noarch::google-pasta-0.2.0-pyhd3eb1b0_0\n",
      "  grpcio             pkgs/main/win-64::grpcio-1.42.0-py37hc60d5dd_0\n",
      "  h5py               pkgs/main/win-64::h5py-2.10.0-py37h5e291fa_0\n",
      "  hdf5               pkgs/main/win-64::hdf5-1.10.4-h7ebc959_0\n",
      "  icc_rt             pkgs/main/win-64::icc_rt-2019.0.0-h0cc432a_1\n",
      "  idna               pkgs/main/noarch::idna-3.3-pyhd3eb1b0_0\n",
      "  keras-applications pkgs/main/noarch::keras-applications-1.0.8-py_1\n",
      "  keras-preprocessi~ pkgs/main/noarch::keras-preprocessing-1.1.2-pyhd3eb1b0_0\n",
      "  libprotobuf        pkgs/main/win-64::libprotobuf-3.20.1-h23ce68f_0\n",
      "  markdown           pkgs/main/win-64::markdown-3.3.4-py37haa95532_0\n",
      "  multidict          pkgs/main/win-64::multidict-5.1.0-py37h2bbff1b_2\n",
      "  oauthlib           pkgs/main/noarch::oauthlib-3.2.0-pyhd3eb1b0_0\n",
      "  opt_einsum         pkgs/main/noarch::opt_einsum-3.3.0-pyhd3eb1b0_1\n",
      "  protobuf           pkgs/main/win-64::protobuf-3.20.1-py37hd77b12b_0\n",
      "  pyasn1             pkgs/main/noarch::pyasn1-0.4.8-pyhd3eb1b0_0\n",
      "  pyasn1-modules     pkgs/main/noarch::pyasn1-modules-0.2.8-py_0\n",
      "  pyjwt              pkgs/main/win-64::pyjwt-2.1.0-py37haa95532_0\n",
      "  pyopenssl          pkgs/main/noarch::pyopenssl-21.0.0-pyhd3eb1b0_1\n",
      "  pyreadline         pkgs/main/win-64::pyreadline-2.1-py37_1\n",
      "  pysocks            pkgs/main/win-64::pysocks-1.7.1-py37_1\n",
      "  requests           pkgs/main/noarch::requests-2.27.1-pyhd3eb1b0_0\n",
      "  requests-oauthlib  pkgs/main/noarch::requests-oauthlib-1.3.0-py_0\n",
      "  rsa                pkgs/main/noarch::rsa-4.7.2-pyhd3eb1b0_1\n",
      "  scipy              pkgs/main/win-64::scipy-1.7.3-py37h0a974cb_0\n",
      "  tensorboard        pkgs/main/noarch::tensorboard-2.4.0-pyhc547734_0\n",
      "  tensorboard-plugi~ pkgs/main/noarch::tensorboard-plugin-wit-1.6.0-py_0\n",
      "  tensorflow         pkgs/main/win-64::tensorflow-2.3.0-mkl_py37h856240d_0\n",
      "  tensorflow-base    pkgs/main/win-64::tensorflow-base-2.3.0-gpu_py37h18d21e4_0\n",
      "  tensorflow-estima~ pkgs/main/noarch::tensorflow-estimator-2.6.0-pyh7b7c402_0\n",
      "  termcolor          pkgs/main/win-64::termcolor-1.1.0-py37haa95532_1\n",
      "  urllib3            pkgs/main/win-64::urllib3-1.26.9-py37haa95532_0\n",
      "  werkzeug           pkgs/main/noarch::werkzeug-2.0.3-pyhd3eb1b0_0\n",
      "  win_inet_pton      pkgs/main/win-64::win_inet_pton-1.1.0-py37haa95532_0\n",
      "  wrapt              pkgs/main/win-64::wrapt-1.13.3-py37h2bbff1b_2\n",
      "  yarl               pkgs/main/win-64::yarl-1.6.3-py37h2bbff1b_0\n",
      "\n",
      "\n",
      "\n",
      "Downloading and Extracting Packages\n",
      "\n",
      "astor-0.8.1          | 47 KB     |            |   0% \n",
      "astor-0.8.1          | 47 KB     | ########## | 100% \n",
      "astor-0.8.1          | 47 KB     | ########## | 100% \n",
      "\n",
      "aiosignal-1.2.0      | 12 KB     |            |   0% \n",
      "aiosignal-1.2.0      | 12 KB     | ########## | 100% \n",
      "\n",
      "blinker-1.4          | 23 KB     |            |   0% \n",
      "blinker-1.4          | 23 KB     | ########## | 100% \n",
      "\n",
      "async-timeout-4.0.1  | 10 KB     |            |   0% \n",
      "async-timeout-4.0.1  | 10 KB     | ########## | 100% \n",
      "\n",
      "markdown-3.3.4       | 144 KB    |            |   0% \n",
      "markdown-3.3.4       | 144 KB    | ########## | 100% \n",
      "markdown-3.3.4       | 144 KB    | ########## | 100% \n",
      "\n",
      "pyasn1-0.4.8         | 54 KB     |            |   0% \n",
      "pyasn1-0.4.8         | 54 KB     | ########## | 100% \n",
      "\n",
      "aiohttp-3.8.1        | 492 KB    |            |   0% \n",
      "aiohttp-3.8.1        | 492 KB    | ######8    |  68% \n",
      "aiohttp-3.8.1        | 492 KB    | ########## | 100% \n",
      "\n",
      "rsa-4.7.2            | 28 KB     |            |   0% \n",
      "rsa-4.7.2            | 28 KB     | ########## | 100% \n",
      "\n",
      "brotlipy-0.7.0       | 337 KB    |            |   0% \n",
      "brotlipy-0.7.0       | 337 KB    | ##3        |  24% \n",
      "brotlipy-0.7.0       | 337 KB    | ####7      |  47% \n",
      "brotlipy-0.7.0       | 337 KB    | ########## | 100% \n",
      "brotlipy-0.7.0       | 337 KB    | ########## | 100% \n",
      "\n",
      "werkzeug-2.0.3       | 221 KB    |            |   0% \n",
      "werkzeug-2.0.3       | 221 KB    | ########## | 100% \n",
      "werkzeug-2.0.3       | 221 KB    | ########## | 100% \n",
      "\n",
      "opt_einsum-3.3.0     | 57 KB     |            |   0% \n",
      "opt_einsum-3.3.0     | 57 KB     | ########## | 100% \n",
      "opt_einsum-3.3.0     | 57 KB     | ########## | 100% \n",
      "\n",
      "hdf5-1.10.4          | 7.9 MB    |            |   0% \n",
      "hdf5-1.10.4          | 7.9 MB    | 7          |   8% \n",
      "hdf5-1.10.4          | 7.9 MB    | ##1        |  22% \n",
      "hdf5-1.10.4          | 7.9 MB    | ###5       |  36% \n",
      "hdf5-1.10.4          | 7.9 MB    | #####      |  50% \n",
      "hdf5-1.10.4          | 7.9 MB    | ######4    |  64% \n",
      "hdf5-1.10.4          | 7.9 MB    | #######8   |  78% \n",
      "hdf5-1.10.4          | 7.9 MB    | #########2 |  92% \n",
      "hdf5-1.10.4          | 7.9 MB    | ########## | 100% \n",
      "\n",
      "icc_rt-2019.0.0      | 6.0 MB    |            |   0% \n",
      "icc_rt-2019.0.0      | 6.0 MB    | #4         |  15% \n",
      "icc_rt-2019.0.0      | 6.0 MB    | ###3       |  33% \n",
      "icc_rt-2019.0.0      | 6.0 MB    | #####2     |  52% \n",
      "icc_rt-2019.0.0      | 6.0 MB    | #######1   |  71% \n",
      "icc_rt-2019.0.0      | 6.0 MB    | ########9  |  90% \n",
      "icc_rt-2019.0.0      | 6.0 MB    | ########## | 100% \n",
      "\n",
      "pyasn1-modules-0.2.8 | 72 KB     |            |   0% \n",
      "pyasn1-modules-0.2.8 | 72 KB     | ########## | 100% \n",
      "pyasn1-modules-0.2.8 | 72 KB     | ########## | 100% \n",
      "\n",
      "absl-py-0.15.0       | 103 KB    |            |   0% \n",
      "absl-py-0.15.0       | 103 KB    | ########## | 100% \n",
      "absl-py-0.15.0       | 103 KB    | ########## | 100% \n",
      "\n",
      "requests-2.27.1      | 54 KB     |            |   0% \n",
      "requests-2.27.1      | 54 KB     | ########## | 100% \n",
      "\n",
      "tensorflow-estimator | 267 KB    |            |   0% \n",
      "tensorflow-estimator | 267 KB    | ########## | 100% \n",
      "tensorflow-estimator | 267 KB    | ########## | 100% \n",
      "\n",
      "tensorflow-2.3.0     | 6 KB      |            |   0% \n",
      "tensorflow-2.3.0     | 6 KB      | ########## | 100% \n",
      "tensorflow-2.3.0     | 6 KB      | ########## | 100% \n",
      "\n",
      "cachetools-4.2.2     | 13 KB     |            |   0% \n",
      "cachetools-4.2.2     | 13 KB     | ########## | 100% \n",
      "\n",
      "google-auth-oauthlib | 18 KB     |            |   0% \n",
      "google-auth-oauthlib | 18 KB     | ########## | 100% \n",
      "\n",
      "keras-applications-1 | 29 KB     |            |   0% \n",
      "keras-applications-1 | 29 KB     | ########## | 100% \n",
      "\n",
      "dataclasses-0.8      | 8 KB      |            |   0% \n",
      "dataclasses-0.8      | 8 KB      | ########## | 100% \n",
      "\n",
      "google-pasta-0.2.0   | 46 KB     |            |   0% \n",
      "google-pasta-0.2.0   | 46 KB     | ########## | 100% \n",
      "\n",
      "h5py-2.10.0          | 808 KB    |            |   0% \n",
      "h5py-2.10.0          | 808 KB    | 1          |   2% \n",
      "h5py-2.10.0          | 808 KB    | ########## | 100% \n",
      "h5py-2.10.0          | 808 KB    | ########## | 100% \n",
      "\n",
      "google-auth-2.6.0    | 83 KB     |            |   0% \n",
      "google-auth-2.6.0    | 83 KB     | ########## | 100% \n",
      "google-auth-2.6.0    | 83 KB     | ########## | 100% \n",
      "\n",
      "astunparse-1.6.3     | 17 KB     |            |   0% \n",
      "astunparse-1.6.3     | 17 KB     | ########## | 100% \n",
      "\n",
      "pysocks-1.7.1        | 28 KB     |            |   0% \n",
      "pysocks-1.7.1        | 28 KB     | ########## | 100% \n",
      "\n",
      "urllib3-1.26.9       | 188 KB    |            |   0% \n",
      "urllib3-1.26.9       | 188 KB    | ########## | 100% \n",
      "urllib3-1.26.9       | 188 KB    | ########## | 100% \n",
      "\n",
      "tensorboard-2.4.0    | 8.8 MB    |            |   0% \n",
      "tensorboard-2.4.0    | 8.8 MB    | 9          |   9% \n",
      "tensorboard-2.4.0    | 8.8 MB    | ##2        |  22% \n",
      "tensorboard-2.4.0    | 8.8 MB    | ###3       |  34% \n",
      "tensorboard-2.4.0    | 8.8 MB    | ####7      |  47% \n",
      "tensorboard-2.4.0    | 8.8 MB    | ######2    |  62% \n",
      "tensorboard-2.4.0    | 8.8 MB    | #######5   |  76% \n",
      "tensorboard-2.4.0    | 8.8 MB    | ########7  |  88% \n",
      "tensorboard-2.4.0    | 8.8 MB    | ########## | 100% \n",
      "tensorboard-2.4.0    | 8.8 MB    | ########## | 100% \n",
      "\n",
      "grpcio-1.42.0        | 1.8 MB    |            |   0% \n",
      "Note: you may need to restart the kernel to use updated packages.\n",
      "grpcio-1.42.0        | 1.8 MB    | ####6      |  46% \n",
      "grpcio-1.42.0        | 1.8 MB    | ########## | 100% \n",
      "grpcio-1.42.0        | 1.8 MB    | ########## | 100% \n",
      "\n",
      "requests-oauthlib-1. | 23 KB     |            |   0% \n",
      "requests-oauthlib-1. | 23 KB     | ########## | 100% \n",
      "\n",
      "tensorflow-base-2.3. | 172.3 MB  |            |   0% \n",
      "tensorflow-base-2.3. | 172.3 MB  |            |   0% \n",
      "\n",
      "tensorflow-base-2.3. | 172.3 MB  |            |   0% \n",
      "tensorflow-base-2.3. | 172.3 MB  |            |   0% \n",
      "tensorflow-base-2.3. | 172.3 MB  |            |   0% \n",
      "tensorflow-base-2.3. | 172.3 MB  |            |   0% \n",
      "tensorflow-base-2.3. | 172.3 MB  |            |   0% \n",
      "tensorflow-base-2.3. | 172.3 MB  |            |   0% \n",
      "tensorflow-base-2.3. | 172.3 MB  |            |   1% \n",
      "tensorflow-base-2.3. | 172.3 MB  |            |   1% \n",
      "tensorflow-base-2.3. | 172.3 MB  | 1          |   1% \n",
      "tensorflow-base-2.3. | 172.3 MB  | 2          |   2% \n",
      "tensorflow-base-2.3. | 172.3 MB  | 2          |   3% \n",
      "tensorflow-base-2.3. | 172.3 MB  | 3          |   3% \n",
      "tensorflow-base-2.3. | 172.3 MB  | 4          |   4% \n",
      "tensorflow-base-2.3. | 172.3 MB  | 4          |   5% \n",
      "tensorflow-base-2.3. | 172.3 MB  | 5          |   5% \n",
      "tensorflow-base-2.3. | 172.3 MB  | 6          |   6% \n",
      "tensorflow-base-2.3. | 172.3 MB  | 6          |   7% \n",
      "tensorflow-base-2.3. | 172.3 MB  | 7          |   7% \n",
      "tensorflow-base-2.3. | 172.3 MB  | 8          |   8% \n",
      "tensorflow-base-2.3. | 172.3 MB  | 8          |   9% \n",
      "tensorflow-base-2.3. | 172.3 MB  | 9          |   9% \n",
      "tensorflow-base-2.3. | 172.3 MB  | 9          |  10% \n",
      "tensorflow-base-2.3. | 172.3 MB  | #          |  11% \n",
      "tensorflow-base-2.3. | 172.3 MB  | #1         |  11% \n",
      "tensorflow-base-2.3. | 172.3 MB  | #1         |  12% \n",
      "tensorflow-base-2.3. | 172.3 MB  | #2         |  13% \n",
      "tensorflow-base-2.3. | 172.3 MB  | #3         |  13% \n",
      "tensorflow-base-2.3. | 172.3 MB  | #3         |  14% \n",
      "tensorflow-base-2.3. | 172.3 MB  | #4         |  15% \n",
      "tensorflow-base-2.3. | 172.3 MB  | #5         |  15% \n",
      "tensorflow-base-2.3. | 172.3 MB  | #5         |  16% \n",
      "tensorflow-base-2.3. | 172.3 MB  | #6         |  16% \n",
      "tensorflow-base-2.3. | 172.3 MB  | #7         |  17% \n",
      "tensorflow-base-2.3. | 172.3 MB  | #7         |  18% \n",
      "tensorflow-base-2.3. | 172.3 MB  | #8         |  18% \n",
      "tensorflow-base-2.3. | 172.3 MB  | #9         |  19% \n",
      "tensorflow-base-2.3. | 172.3 MB  | #9         |  20% \n",
      "tensorflow-base-2.3. | 172.3 MB  | ##         |  20% \n",
      "tensorflow-base-2.3. | 172.3 MB  | ##1        |  21% \n",
      "tensorflow-base-2.3. | 172.3 MB  | ##1        |  22% \n",
      "tensorflow-base-2.3. | 172.3 MB  | ##2        |  22% \n",
      "tensorflow-base-2.3. | 172.3 MB  | ##2        |  23% \n",
      "tensorflow-base-2.3. | 172.3 MB  | ##3        |  24% \n",
      "tensorflow-base-2.3. | 172.3 MB  | ##4        |  24% \n",
      "tensorflow-base-2.3. | 172.3 MB  | ##5        |  25% \n",
      "tensorflow-base-2.3. | 172.3 MB  | ##5        |  26% \n",
      "tensorflow-base-2.3. | 172.3 MB  | ##6        |  26% \n",
      "tensorflow-base-2.3. | 172.3 MB  | ##6        |  27% \n",
      "tensorflow-base-2.3. | 172.3 MB  | ##7        |  28% \n",
      "tensorflow-base-2.3. | 172.3 MB  | ##8        |  28% \n",
      "tensorflow-base-2.3. | 172.3 MB  | ##8        |  29% \n",
      "tensorflow-base-2.3. | 172.3 MB  | ##9        |  30% \n",
      "tensorflow-base-2.3. | 172.3 MB  | ###        |  30% \n",
      "tensorflow-base-2.3. | 172.3 MB  | ###        |  31% \n",
      "tensorflow-base-2.3. | 172.3 MB  | ###1       |  32% \n",
      "tensorflow-base-2.3. | 172.3 MB  | ###2       |  32% \n",
      "tensorflow-base-2.3. | 172.3 MB  | ###2       |  33% \n",
      "tensorflow-base-2.3. | 172.3 MB  | ###3       |  34% \n",
      "tensorflow-base-2.3. | 172.3 MB  | ###4       |  34% \n",
      "tensorflow-base-2.3. | 172.3 MB  | ###4       |  35% \n",
      "tensorflow-base-2.3. | 172.3 MB  | ###5       |  36% \n",
      "tensorflow-base-2.3. | 172.3 MB  | ###6       |  36% \n",
      "tensorflow-base-2.3. | 172.3 MB  | ###6       |  37% \n",
      "tensorflow-base-2.3. | 172.3 MB  | ###7       |  38% \n",
      "tensorflow-base-2.3. | 172.3 MB  | ###8       |  38% \n",
      "tensorflow-base-2.3. | 172.3 MB  | ###8       |  39% \n",
      "tensorflow-base-2.3. | 172.3 MB  | ###9       |  40% \n",
      "tensorflow-base-2.3. | 172.3 MB  | ####       |  40% \n",
      "tensorflow-base-2.3. | 172.3 MB  | ####       |  41% \n",
      "tensorflow-base-2.3. | 172.3 MB  | ####1      |  41% \n",
      "tensorflow-base-2.3. | 172.3 MB  | ####2      |  42% \n",
      "tensorflow-base-2.3. | 172.3 MB  | ####2      |  43% \n",
      "tensorflow-base-2.3. | 172.3 MB  | ####3      |  44% \n",
      "tensorflow-base-2.3. | 172.3 MB  | ####4      |  44% \n",
      "tensorflow-base-2.3. | 172.3 MB  | ####4      |  45% \n",
      "tensorflow-base-2.3. | 172.3 MB  | ####5      |  46% \n",
      "tensorflow-base-2.3. | 172.3 MB  | ####6      |  46% \n",
      "tensorflow-base-2.3. | 172.3 MB  | ####6      |  47% \n",
      "tensorflow-base-2.3. | 172.3 MB  | ####7      |  48% \n",
      "tensorflow-base-2.3. | 172.3 MB  | ####8      |  48% \n",
      "tensorflow-base-2.3. | 172.3 MB  | ####8      |  49% \n",
      "tensorflow-base-2.3. | 172.3 MB  | ####9      |  50% \n",
      "tensorflow-base-2.3. | 172.3 MB  | #####      |  50% \n",
      "tensorflow-base-2.3. | 172.3 MB  | #####      |  51% \n",
      "tensorflow-base-2.3. | 172.3 MB  | #####1     |  51% \n",
      "tensorflow-base-2.3. | 172.3 MB  | #####2     |  52% \n",
      "tensorflow-base-2.3. | 172.3 MB  | #####2     |  53% \n",
      "tensorflow-base-2.3. | 172.3 MB  | #####3     |  53% \n",
      "tensorflow-base-2.3. | 172.3 MB  | #####4     |  54% \n",
      "tensorflow-base-2.3. | 172.3 MB  | #####4     |  55% \n",
      "tensorflow-base-2.3. | 172.3 MB  | #####5     |  55% \n",
      "tensorflow-base-2.3. | 172.3 MB  | #####6     |  56% \n",
      "tensorflow-base-2.3. | 172.3 MB  | #####6     |  57% \n",
      "tensorflow-base-2.3. | 172.3 MB  | #####7     |  57% \n",
      "tensorflow-base-2.3. | 172.3 MB  | #####8     |  58% \n",
      "tensorflow-base-2.3. | 172.3 MB  | #####8     |  59% \n",
      "tensorflow-base-2.3. | 172.3 MB  | #####9     |  59% \n",
      "tensorflow-base-2.3. | 172.3 MB  | ######     |  60% \n",
      "tensorflow-base-2.3. | 172.3 MB  | ######     |  61% \n",
      "tensorflow-base-2.3. | 172.3 MB  | ######1    |  61% \n",
      "tensorflow-base-2.3. | 172.3 MB  | ######2    |  62% \n",
      "tensorflow-base-2.3. | 172.3 MB  | ######2    |  63% \n",
      "tensorflow-base-2.3. | 172.3 MB  | ######3    |  63% \n",
      "tensorflow-base-2.3. | 172.3 MB  | ######4    |  64% \n",
      "tensorflow-base-2.3. | 172.3 MB  | ######4    |  65% \n",
      "tensorflow-base-2.3. | 172.3 MB  | ######5    |  65% \n",
      "tensorflow-base-2.3. | 172.3 MB  | ######6    |  66% \n",
      "tensorflow-base-2.3. | 172.3 MB  | ######6    |  67% \n",
      "tensorflow-base-2.3. | 172.3 MB  | ######7    |  67% \n",
      "tensorflow-base-2.3. | 172.3 MB  | ######8    |  68% \n",
      "tensorflow-base-2.3. | 172.3 MB  | ######8    |  69% \n",
      "tensorflow-base-2.3. | 172.3 MB  | ######9    |  69% \n",
      "tensorflow-base-2.3. | 172.3 MB  | #######    |  70% \n",
      "tensorflow-base-2.3. | 172.3 MB  | #######    |  71% \n",
      "tensorflow-base-2.3. | 172.3 MB  | #######1   |  71% \n",
      "tensorflow-base-2.3. | 172.3 MB  | #######2   |  72% \n",
      "tensorflow-base-2.3. | 172.3 MB  | #######2   |  73% \n",
      "tensorflow-base-2.3. | 172.3 MB  | #######3   |  73% \n",
      "tensorflow-base-2.3. | 172.3 MB  | #######4   |  74% \n",
      "tensorflow-base-2.3. | 172.3 MB  | #######4   |  75% \n",
      "tensorflow-base-2.3. | 172.3 MB  | #######5   |  75% \n",
      "tensorflow-base-2.3. | 172.3 MB  | #######5   |  76% \n",
      "tensorflow-base-2.3. | 172.3 MB  | #######6   |  77% \n",
      "tensorflow-base-2.3. | 172.3 MB  | #######7   |  77% \n",
      "tensorflow-base-2.3. | 172.3 MB  | #######7   |  78% \n",
      "tensorflow-base-2.3. | 172.3 MB  | #######8   |  79% \n",
      "tensorflow-base-2.3. | 172.3 MB  | #######9   |  79% \n",
      "tensorflow-base-2.3. | 172.3 MB  | #######9   |  80% \n",
      "tensorflow-base-2.3. | 172.3 MB  | ########   |  81% \n",
      "tensorflow-base-2.3. | 172.3 MB  | ########1  |  81% \n",
      "tensorflow-base-2.3. | 172.3 MB  | ########1  |  82% \n",
      "tensorflow-base-2.3. | 172.3 MB  | ########2  |  83% \n",
      "tensorflow-base-2.3. | 172.3 MB  | ########3  |  83% \n",
      "tensorflow-base-2.3. | 172.3 MB  | ########3  |  84% \n",
      "tensorflow-base-2.3. | 172.3 MB  | ########4  |  85% \n",
      "tensorflow-base-2.3. | 172.3 MB  | ########5  |  85% \n",
      "tensorflow-base-2.3. | 172.3 MB  | ########5  |  86% \n",
      "tensorflow-base-2.3. | 172.3 MB  | ########6  |  87% \n",
      "tensorflow-base-2.3. | 172.3 MB  | ########7  |  87% \n",
      "tensorflow-base-2.3. | 172.3 MB  | ########7  |  88% \n",
      "tensorflow-base-2.3. | 172.3 MB  | ########8  |  88% \n",
      "tensorflow-base-2.3. | 172.3 MB  | ########9  |  89% \n",
      "tensorflow-base-2.3. | 172.3 MB  | ########9  |  90% \n",
      "tensorflow-base-2.3. | 172.3 MB  | #########  |  90% \n",
      "tensorflow-base-2.3. | 172.3 MB  | #########1 |  91% \n",
      "tensorflow-base-2.3. | 172.3 MB  | #########1 |  92% \n",
      "tensorflow-base-2.3. | 172.3 MB  | #########2 |  92% \n",
      "tensorflow-base-2.3. | 172.3 MB  | #########3 |  93% \n",
      "tensorflow-base-2.3. | 172.3 MB  | #########3 |  94% \n",
      "tensorflow-base-2.3. | 172.3 MB  | #########4 |  94% \n",
      "tensorflow-base-2.3. | 172.3 MB  | #########4 |  95% \n",
      "tensorflow-base-2.3. | 172.3 MB  | #########5 |  96% \n",
      "tensorflow-base-2.3. | 172.3 MB  | #########6 |  96% \n",
      "tensorflow-base-2.3. | 172.3 MB  | #########6 |  97% \n",
      "tensorflow-base-2.3. | 172.3 MB  | #########7 |  98% \n",
      "tensorflow-base-2.3. | 172.3 MB  | #########8 |  98% \n",
      "tensorflow-base-2.3. | 172.3 MB  | #########8 |  99% \n",
      "tensorflow-base-2.3. | 172.3 MB  | #########9 | 100% \n",
      "tensorflow-base-2.3. | 172.3 MB  | ########## | 100% \n",
      "\n",
      "multidict-5.1.0      | 85 KB     |            |   0% \n",
      "multidict-5.1.0      | 85 KB     | ########## | 100% \n",
      "multidict-5.1.0      | 85 KB     | ########## | 100% \n",
      "\n",
      "termcolor-1.1.0      | 9 KB      |            |   0% \n",
      "termcolor-1.1.0      | 9 KB      | ########## | 100% \n",
      "\n",
      "keras-preprocessing- | 35 KB     |            |   0% \n",
      "keras-preprocessing- | 35 KB     | ########## | 100% \n",
      "\n",
      "wrapt-1.13.3         | 50 KB     |            |   0% \n",
      "wrapt-1.13.3         | 50 KB     | ###2       |  32% \n",
      "wrapt-1.13.3         | 50 KB     | ########## | 100% \n",
      "\n",
      "tensorboard-plugin-w | 630 KB    |            |   0% \n",
      "tensorboard-plugin-w | 630 KB    | ########## | 100% \n",
      "tensorboard-plugin-w | 630 KB    | ########## | 100% \n",
      "\n",
      "asynctest-0.13.0     | 26 KB     |            |   0% \n",
      "asynctest-0.13.0     | 26 KB     | ########## | 100% \n",
      "\n",
      "pyreadline-2.1       | 143 KB    |            |   0% \n",
      "pyreadline-2.1       | 143 KB    | ########## | 100% \n",
      "pyreadline-2.1       | 143 KB    | ########## | 100% \n",
      "\n",
      "gast-0.3.3           | 14 KB     |            |   0% \n",
      "gast-0.3.3           | 14 KB     | ########## | 100% \n",
      "\n",
      "click-8.0.4          | 153 KB    |            |   0% \n",
      "click-8.0.4          | 153 KB    | ########## | 100% \n",
      "click-8.0.4          | 153 KB    | ########## | 100% \n",
      "\n",
      "frozenlist-1.2.0     | 76 KB     |            |   0% \n",
      "frozenlist-1.2.0     | 76 KB     | ########## | 100% \n",
      "\n",
      "idna-3.3             | 49 KB     |            |   0% \n",
      "idna-3.3             | 49 KB     | ########## | 100% \n",
      "\n",
      "charset-normalizer-2 | 35 KB     |            |   0% \n",
      "charset-normalizer-2 | 35 KB     | ########## | 100% \n",
      "\n",
      "scipy-1.7.3          | 13.8 MB   |            |   0% \n",
      "scipy-1.7.3          | 13.8 MB   | 6          |   6% \n",
      "scipy-1.7.3          | 13.8 MB   | #4         |  15% \n",
      "scipy-1.7.3          | 13.8 MB   | ##2        |  23% \n",
      "scipy-1.7.3          | 13.8 MB   | ###1       |  31% \n",
      "scipy-1.7.3          | 13.8 MB   | ###8       |  39% \n",
      "scipy-1.7.3          | 13.8 MB   | ####7      |  47% \n",
      "scipy-1.7.3          | 13.8 MB   | #####5     |  55% \n",
      "scipy-1.7.3          | 13.8 MB   | ######3    |  63% \n",
      "scipy-1.7.3          | 13.8 MB   | #######1   |  72% \n",
      "scipy-1.7.3          | 13.8 MB   | #######9   |  80% \n",
      "scipy-1.7.3          | 13.8 MB   | ########7  |  88% \n",
      "scipy-1.7.3          | 13.8 MB   | #########6 |  96% \n",
      "scipy-1.7.3          | 13.8 MB   | ########## | 100% \n",
      "\n",
      "yarl-1.6.3           | 151 KB    |            |   0% \n",
      "yarl-1.6.3           | 151 KB    | ########## | 100% \n",
      "yarl-1.6.3           | 151 KB    | ########## | 100% \n",
      "\n",
      "win_inet_pton-1.1.0  | 35 KB     |            |   0% \n",
      "win_inet_pton-1.1.0  | 35 KB     | ########## | 100% \n",
      "Preparing transaction: ...working... done\n",
      "Verifying transaction: ...working... done\n",
      "Executing transaction: ...working... done\n"
     ]
    }
   ],
   "source": [
    "# conda install tensorflow==2.3.0"
   ],
   "metadata": {
    "collapsed": false,
    "pycharm": {
     "name": "#%%\n"
    }
   }
  },
  {
   "cell_type": "code",
   "execution_count": 31,
   "outputs": [],
   "source": [
    "# conda search cudnn"
   ],
   "metadata": {
    "collapsed": false,
    "pycharm": {
     "name": "#%%\n"
    }
   }
  },
  {
   "cell_type": "code",
   "execution_count": 32,
   "outputs": [],
   "source": [
    "# conda install cudnn=7.6.5=cuda10.1_0"
   ],
   "metadata": {
    "collapsed": false,
    "pycharm": {
     "name": "#%%\n"
    }
   }
  },
  {
   "cell_type": "code",
   "execution_count": 2,
   "outputs": [
    {
     "data": {
      "text/plain": "'/device:GPU:0'"
     },
     "execution_count": 2,
     "metadata": {},
     "output_type": "execute_result"
    }
   ],
   "source": [
    "# check if tensorflow see the GPU\n",
    "tf.test.gpu_device_name()"
   ],
   "metadata": {
    "collapsed": false,
    "pycharm": {
     "name": "#%%\n"
    }
   }
  },
  {
   "cell_type": "code",
   "execution_count": 3,
   "metadata": {
    "collapsed": false,
    "jupyter": {
     "outputs_hidden": false
    },
    "pycharm": {
     "name": "#%%\n"
    }
   },
   "outputs": [
    {
     "name": "stdout",
     "output_type": "stream",
     "text": [
      "Mon Jun  6 12:49:36 2022       \n",
      "+-----------------------------------------------------------------------------+\n",
      "| NVIDIA-SMI 512.95       Driver Version: 512.95       CUDA Version: 11.6     |\n",
      "|-------------------------------+----------------------+----------------------+\n",
      "| GPU  Name            TCC/WDDM | Bus-Id        Disp.A | Volatile Uncorr. ECC |\n",
      "| Fan  Temp  Perf  Pwr:Usage/Cap|         Memory-Usage | GPU-Util  Compute M. |\n",
      "|                               |                      |               MIG M. |\n",
      "|===============================+======================+======================|\n",
      "|   0  NVIDIA GeForce ... WDDM  | 00000000:01:00.0  On |                  N/A |\n",
      "| N/A   47C    P2    33W /  N/A |   1002MiB /  8192MiB |      0%      Default |\n",
      "|                               |                      |                  N/A |\n",
      "+-------------------------------+----------------------+----------------------+\n",
      "                                                                               \n",
      "+-----------------------------------------------------------------------------+\n",
      "| Processes:                                                                  |\n",
      "|  GPU   GI   CI        PID   Type   Process name                  GPU Memory |\n",
      "|        ID   ID                                                   Usage      |\n",
      "|=============================================================================|\n",
      "|    0   N/A  N/A       852    C+G   ...wekyb3d8bbwe\\Video.UI.exe    N/A      |\n",
      "|    0   N/A  N/A       992    C+G   ...gram Desktop\\Telegram.exe    N/A      |\n",
      "|    0   N/A  N/A      5796    C+G   ...r\\Application\\browser.exe    N/A      |\n",
      "|    0   N/A  N/A      8944    C+G   ...lPanel\\SystemSettings.exe    N/A      |\n",
      "|    0   N/A  N/A      9764      C   ...classification\\python.exe    N/A      |\n",
      "|    0   N/A  N/A     10904    C+G   ...root\\Office16\\WINWORD.EXE    N/A      |\n",
      "|    0   N/A  N/A     11056    C+G   ...y\\ShellExperienceHost.exe    N/A      |\n",
      "|    0   N/A  N/A     11588    C+G   C:\\Windows\\explorer.exe         N/A      |\n",
      "|    0   N/A  N/A     12216    C+G   ...5n1h2txyewy\\SearchApp.exe    N/A      |\n",
      "|    0   N/A  N/A     12696    C+G   ...artMenuExperienceHost.exe    N/A      |\n",
      "|    0   N/A  N/A     13740    C+G   ...ekyb3d8bbwe\\YourPhone.exe    N/A      |\n",
      "|    0   N/A  N/A     13788    C+G   ...cd70vzyy\\ArmouryCrate.exe    N/A      |\n",
      "|    0   N/A  N/A     15868    C+G   ...2txyewy\\TextInputHost.exe    N/A      |\n",
      "|    0   N/A  N/A     16624    C+G   ...8.0.3.0\\GoogleDriveFS.exe    N/A      |\n",
      "|    0   N/A  N/A     17880    C+G   ...perience\\NVIDIA Share.exe    N/A      |\n",
      "|    0   N/A  N/A     17948    C+G   ...indows\\System32\\mstsc.exe    N/A      |\n",
      "|    0   N/A  N/A     17968    C+G   ...kyb3d8bbwe\\Calculator.exe    N/A      |\n",
      "|    0   N/A  N/A     19780    C+G   ...root\\Office16\\OUTLOOK.EXE    N/A      |\n",
      "|    0   N/A  N/A     20156    C+G   ...bbwe\\Microsoft.Photos.exe    N/A      |\n",
      "|    0   N/A  N/A     20360    C+G   ...8wekyb3d8bbwe\\Cortana.exe    N/A      |\n",
      "|    0   N/A  N/A     20652    C+G   ...qxf38zg5c\\Skype\\Skype.exe    N/A      |\n",
      "|    0   N/A  N/A     20740    C+G   ...qxf38zg5c\\Skype\\Skype.exe    N/A      |\n",
      "|    0   N/A  N/A     21344    C+G   ...AdGuardVpn\\AdGuardVpn.exe    N/A      |\n",
      "+-----------------------------------------------------------------------------+\n"
     ]
    }
   ],
   "source": [
    "# check name of GPU\n",
    "!nvidia-smi"
   ]
  },
  {
   "cell_type": "code",
   "execution_count": 4,
   "metadata": {
    "collapsed": false,
    "jupyter": {
     "outputs_hidden": false
    },
    "pycharm": {
     "name": "#%%\n"
    }
   },
   "outputs": [
    {
     "data": {
      "text/plain": "                                                    image  \\\n0           https://mushroomobserver.org/images/640/2.jpg   \n1          https://mushroomobserver.org/images/640/16.jpg   \n2          https://mushroomobserver.org/images/640/26.jpg   \n3          https://mushroomobserver.org/images/640/36.jpg   \n4          https://mushroomobserver.org/images/640/37.jpg   \n...                                                   ...   \n254917  https://mushroomobserver.org/images/640/131437...   \n254918  https://mushroomobserver.org/images/640/131437...   \n254919  https://mushroomobserver.org/images/640/131437...   \n254920                                                NaN   \n254921                                                NaN   \n\n                              name     created  \\\n0                Xylaria magnoliae  2004-07-17   \n1       Volvopluteus gloiocephalus  2005-01-07   \n2               Panellus stipticus  2004-11-26   \n3                 Sutorius eximius  2004-07-14   \n4                 Harrya chromapes  1994-09-15   \n...                            ...         ...   \n254917     Laricifomes officinalis  2021-03-10   \n254918     Laricifomes officinalis  2021-03-10   \n254919     Laricifomes officinalis  2021-03-10   \n254920                         NaN         NaN   \n254921                         NaN         NaN   \n\n                                               license   rightsHolder  \n0       http://creativecommons.org/licenses/by-sa/3.0/  Nathan Wilson  \n1       http://creativecommons.org/licenses/by-sa/3.0/  Nathan Wilson  \n2       http://creativecommons.org/licenses/by-sa/3.0/  Nathan Wilson  \n3       http://creativecommons.org/licenses/by-sa/3.0/  Nathan Wilson  \n4       http://creativecommons.org/licenses/by-sa/3.0/  Nathan Wilson  \n...                                                ...            ...  \n254917  http://creativecommons.org/licenses/by-sa/3.0/          -Josh  \n254918  http://creativecommons.org/licenses/by-sa/3.0/          -Josh  \n254919  http://creativecommons.org/licenses/by-sa/3.0/          -Josh  \n254920                                             NaN            NaN  \n254921                                             NaN            NaN  \n\n[254922 rows x 5 columns]",
      "text/html": "<div>\n<style scoped>\n    .dataframe tbody tr th:only-of-type {\n        vertical-align: middle;\n    }\n\n    .dataframe tbody tr th {\n        vertical-align: top;\n    }\n\n    .dataframe thead th {\n        text-align: right;\n    }\n</style>\n<table border=\"1\" class=\"dataframe\">\n  <thead>\n    <tr style=\"text-align: right;\">\n      <th></th>\n      <th>image</th>\n      <th>name</th>\n      <th>created</th>\n      <th>license</th>\n      <th>rightsHolder</th>\n    </tr>\n  </thead>\n  <tbody>\n    <tr>\n      <th>0</th>\n      <td>https://mushroomobserver.org/images/640/2.jpg</td>\n      <td>Xylaria magnoliae</td>\n      <td>2004-07-17</td>\n      <td>http://creativecommons.org/licenses/by-sa/3.0/</td>\n      <td>Nathan Wilson</td>\n    </tr>\n    <tr>\n      <th>1</th>\n      <td>https://mushroomobserver.org/images/640/16.jpg</td>\n      <td>Volvopluteus gloiocephalus</td>\n      <td>2005-01-07</td>\n      <td>http://creativecommons.org/licenses/by-sa/3.0/</td>\n      <td>Nathan Wilson</td>\n    </tr>\n    <tr>\n      <th>2</th>\n      <td>https://mushroomobserver.org/images/640/26.jpg</td>\n      <td>Panellus stipticus</td>\n      <td>2004-11-26</td>\n      <td>http://creativecommons.org/licenses/by-sa/3.0/</td>\n      <td>Nathan Wilson</td>\n    </tr>\n    <tr>\n      <th>3</th>\n      <td>https://mushroomobserver.org/images/640/36.jpg</td>\n      <td>Sutorius eximius</td>\n      <td>2004-07-14</td>\n      <td>http://creativecommons.org/licenses/by-sa/3.0/</td>\n      <td>Nathan Wilson</td>\n    </tr>\n    <tr>\n      <th>4</th>\n      <td>https://mushroomobserver.org/images/640/37.jpg</td>\n      <td>Harrya chromapes</td>\n      <td>1994-09-15</td>\n      <td>http://creativecommons.org/licenses/by-sa/3.0/</td>\n      <td>Nathan Wilson</td>\n    </tr>\n    <tr>\n      <th>...</th>\n      <td>...</td>\n      <td>...</td>\n      <td>...</td>\n      <td>...</td>\n      <td>...</td>\n    </tr>\n    <tr>\n      <th>254917</th>\n      <td>https://mushroomobserver.org/images/640/131437...</td>\n      <td>Laricifomes officinalis</td>\n      <td>2021-03-10</td>\n      <td>http://creativecommons.org/licenses/by-sa/3.0/</td>\n      <td>-Josh</td>\n    </tr>\n    <tr>\n      <th>254918</th>\n      <td>https://mushroomobserver.org/images/640/131437...</td>\n      <td>Laricifomes officinalis</td>\n      <td>2021-03-10</td>\n      <td>http://creativecommons.org/licenses/by-sa/3.0/</td>\n      <td>-Josh</td>\n    </tr>\n    <tr>\n      <th>254919</th>\n      <td>https://mushroomobserver.org/images/640/131437...</td>\n      <td>Laricifomes officinalis</td>\n      <td>2021-03-10</td>\n      <td>http://creativecommons.org/licenses/by-sa/3.0/</td>\n      <td>-Josh</td>\n    </tr>\n    <tr>\n      <th>254920</th>\n      <td>NaN</td>\n      <td>NaN</td>\n      <td>NaN</td>\n      <td>NaN</td>\n      <td>NaN</td>\n    </tr>\n    <tr>\n      <th>254921</th>\n      <td>NaN</td>\n      <td>NaN</td>\n      <td>NaN</td>\n      <td>NaN</td>\n      <td>NaN</td>\n    </tr>\n  </tbody>\n</table>\n<p>254922 rows × 5 columns</p>\n</div>"
     },
     "execution_count": 4,
     "metadata": {},
     "output_type": "execute_result"
    }
   ],
   "source": [
    "#читаем датасет\n",
    "df = pd.read_csv('MO MI images - imagesAndNames.csv')\n",
    "df"
   ]
  },
  {
   "cell_type": "code",
   "execution_count": 5,
   "metadata": {
    "collapsed": false,
    "jupyter": {
     "outputs_hidden": false
    },
    "pycharm": {
     "name": "#%%\n"
    }
   },
   "outputs": [],
   "source": [
    "# Получаем список фото, которые у нас имеются на данный момент\n",
    "jpgFilenamesList = glob.glob('./data/*.jpg')\n",
    "photos = []\n",
    "for i in jpgFilenamesList:\n",
    "    photos.append(int((os.path.basename(i))[:-4]))"
   ]
  },
  {
   "cell_type": "code",
   "execution_count": 6,
   "metadata": {
    "collapsed": false,
    "jupyter": {
     "outputs_hidden": false
    },
    "pycharm": {
     "name": "#%%\n"
    }
   },
   "outputs": [],
   "source": [
    "# Перекраиваем датасет под имеющиеся у нас фото\n",
    "df_exist_photos = df[df.index.isin(photos)]"
   ]
  },
  {
   "cell_type": "code",
   "execution_count": 7,
   "metadata": {
    "collapsed": false,
    "jupyter": {
     "outputs_hidden": false
    },
    "pycharm": {
     "name": "#%%\n"
    }
   },
   "outputs": [
    {
     "data": {
      "text/plain": "Psilocybe              8230\nAmanita                6843\nRussula                6101\nCortinarius            4161\nMycena                 3223\n                       ... \nComatricha                7\nLignoscripta              7\nCyclaneusma               7\nLobothallia               7\nNothophaeocryptopus       7\nName: name, Length: 1000, dtype: int64"
     },
     "execution_count": 7,
     "metadata": {},
     "output_type": "execute_result"
    }
   ],
   "source": [
    "# Составим топ-1000 семейств в имеющимся у нас датасете\n",
    "families = df_exist_photos['name'].str.split(n=1).str[0].value_counts()[:1000]\n",
    "families"
   ]
  },
  {
   "cell_type": "code",
   "execution_count": 8,
   "metadata": {
    "collapsed": false,
    "jupyter": {
     "outputs_hidden": false
    },
    "pycharm": {
     "name": "#%%\n"
    }
   },
   "outputs": [
    {
     "data": {
      "text/plain": "148538"
     },
     "execution_count": 8,
     "metadata": {},
     "output_type": "execute_result"
    }
   ],
   "source": [
    "# Рассмотрим сколько фотографий топ-1000 семейств имеется\n",
    "families.sum()"
   ]
  },
  {
   "cell_type": "code",
   "execution_count": 9,
   "metadata": {
    "collapsed": false,
    "jupyter": {
     "outputs_hidden": false
    },
    "pycharm": {
     "name": "#%%\n"
    }
   },
   "outputs": [
    {
     "data": {
      "text/plain": "                                                    image           name  \\\n16         https://mushroomobserver.org/images/640/88.jpg  Strobilomyces   \n17         https://mushroomobserver.org/images/640/90.jpg  Strobilomyces   \n29        https://mushroomobserver.org/images/640/159.jpg    Coprinopsis   \n60        https://mushroomobserver.org/images/640/394.jpg       Helvella   \n62        https://mushroomobserver.org/images/640/396.jpg       Helvella   \n...                                                   ...            ...   \n249740  https://mushroomobserver.org/images/640/128114...        Inocybe   \n249741  https://mushroomobserver.org/images/640/128114...        Inocybe   \n249742  https://mushroomobserver.org/images/640/128167...        Inocybe   \n249743  https://mushroomobserver.org/images/640/128167...        Inocybe   \n249966  https://mushroomobserver.org/images/640/128206...       Hebeloma   \n\n           created                                            license  \\\n16      2004-07-21     http://creativecommons.org/licenses/by-sa/3.0/   \n17      1994-09-15     http://creativecommons.org/licenses/by-sa/3.0/   \n29      1994-02-15     http://creativecommons.org/licenses/by-sa/3.0/   \n60      2005-01-07     http://creativecommons.org/licenses/by-sa/3.0/   \n62      2005-02-05     http://creativecommons.org/licenses/by-sa/3.0/   \n...            ...                                                ...   \n249740  2020-10-30     http://creativecommons.org/licenses/by-sa/3.0/   \n249741  2020-10-30     http://creativecommons.org/licenses/by-sa/3.0/   \n249742  2020-10-30     http://creativecommons.org/licenses/by-sa/3.0/   \n249743  2020-10-30     http://creativecommons.org/licenses/by-sa/3.0/   \n249966  2020-11-22  http://creativecommons.org/licenses/by-nc-sa/3.0/   \n\n          rightsHolder  \n16       Nathan Wilson  \n17       Nathan Wilson  \n29       Nathan Wilson  \n60       Nathan Wilson  \n62       Nathan Wilson  \n...                ...  \n249740  Drew Henderson  \n249741  Drew Henderson  \n249742  Drew Henderson  \n249743  Drew Henderson  \n249966      Mike Potts  \n\n[17865 rows x 5 columns]",
      "text/html": "<div>\n<style scoped>\n    .dataframe tbody tr th:only-of-type {\n        vertical-align: middle;\n    }\n\n    .dataframe tbody tr th {\n        vertical-align: top;\n    }\n\n    .dataframe thead th {\n        text-align: right;\n    }\n</style>\n<table border=\"1\" class=\"dataframe\">\n  <thead>\n    <tr style=\"text-align: right;\">\n      <th></th>\n      <th>image</th>\n      <th>name</th>\n      <th>created</th>\n      <th>license</th>\n      <th>rightsHolder</th>\n    </tr>\n  </thead>\n  <tbody>\n    <tr>\n      <th>16</th>\n      <td>https://mushroomobserver.org/images/640/88.jpg</td>\n      <td>Strobilomyces</td>\n      <td>2004-07-21</td>\n      <td>http://creativecommons.org/licenses/by-sa/3.0/</td>\n      <td>Nathan Wilson</td>\n    </tr>\n    <tr>\n      <th>17</th>\n      <td>https://mushroomobserver.org/images/640/90.jpg</td>\n      <td>Strobilomyces</td>\n      <td>1994-09-15</td>\n      <td>http://creativecommons.org/licenses/by-sa/3.0/</td>\n      <td>Nathan Wilson</td>\n    </tr>\n    <tr>\n      <th>29</th>\n      <td>https://mushroomobserver.org/images/640/159.jpg</td>\n      <td>Coprinopsis</td>\n      <td>1994-02-15</td>\n      <td>http://creativecommons.org/licenses/by-sa/3.0/</td>\n      <td>Nathan Wilson</td>\n    </tr>\n    <tr>\n      <th>60</th>\n      <td>https://mushroomobserver.org/images/640/394.jpg</td>\n      <td>Helvella</td>\n      <td>2005-01-07</td>\n      <td>http://creativecommons.org/licenses/by-sa/3.0/</td>\n      <td>Nathan Wilson</td>\n    </tr>\n    <tr>\n      <th>62</th>\n      <td>https://mushroomobserver.org/images/640/396.jpg</td>\n      <td>Helvella</td>\n      <td>2005-02-05</td>\n      <td>http://creativecommons.org/licenses/by-sa/3.0/</td>\n      <td>Nathan Wilson</td>\n    </tr>\n    <tr>\n      <th>...</th>\n      <td>...</td>\n      <td>...</td>\n      <td>...</td>\n      <td>...</td>\n      <td>...</td>\n    </tr>\n    <tr>\n      <th>249740</th>\n      <td>https://mushroomobserver.org/images/640/128114...</td>\n      <td>Inocybe</td>\n      <td>2020-10-30</td>\n      <td>http://creativecommons.org/licenses/by-sa/3.0/</td>\n      <td>Drew Henderson</td>\n    </tr>\n    <tr>\n      <th>249741</th>\n      <td>https://mushroomobserver.org/images/640/128114...</td>\n      <td>Inocybe</td>\n      <td>2020-10-30</td>\n      <td>http://creativecommons.org/licenses/by-sa/3.0/</td>\n      <td>Drew Henderson</td>\n    </tr>\n    <tr>\n      <th>249742</th>\n      <td>https://mushroomobserver.org/images/640/128167...</td>\n      <td>Inocybe</td>\n      <td>2020-10-30</td>\n      <td>http://creativecommons.org/licenses/by-sa/3.0/</td>\n      <td>Drew Henderson</td>\n    </tr>\n    <tr>\n      <th>249743</th>\n      <td>https://mushroomobserver.org/images/640/128167...</td>\n      <td>Inocybe</td>\n      <td>2020-10-30</td>\n      <td>http://creativecommons.org/licenses/by-sa/3.0/</td>\n      <td>Drew Henderson</td>\n    </tr>\n    <tr>\n      <th>249966</th>\n      <td>https://mushroomobserver.org/images/640/128206...</td>\n      <td>Hebeloma</td>\n      <td>2020-11-22</td>\n      <td>http://creativecommons.org/licenses/by-nc-sa/3.0/</td>\n      <td>Mike Potts</td>\n    </tr>\n  </tbody>\n</table>\n<p>17865 rows × 5 columns</p>\n</div>"
     },
     "execution_count": 9,
     "metadata": {},
     "output_type": "execute_result"
    }
   ],
   "source": [
    "# Составим датасет, состоящий только из топ-100 грибных семейств\n",
    "top_1000 = df_exist_photos[df_exist_photos.name.isin(families.index)]\n",
    "top_1000"
   ]
  },
  {
   "cell_type": "code",
   "execution_count": 9,
   "metadata": {
    "collapsed": false,
    "jupyter": {
     "outputs_hidden": false
    },
    "pycharm": {
     "name": "#%%\n"
    }
   },
   "outputs": [],
   "source": []
  },
  {
   "cell_type": "code",
   "execution_count": 10,
   "metadata": {
    "collapsed": false,
    "jupyter": {
     "outputs_hidden": false
    },
    "pycharm": {
     "name": "#%%\n"
    }
   },
   "outputs": [
    {
     "data": {
      "text/plain": "        index           name\n0          16  Strobilomyces\n1          17  Strobilomyces\n2          29    Coprinopsis\n3          60       Helvella\n4          62       Helvella\n...       ...            ...\n17860  249740        Inocybe\n17861  249741        Inocybe\n17862  249742        Inocybe\n17863  249743        Inocybe\n17864  249966       Hebeloma\n\n[17865 rows x 2 columns]",
      "text/html": "<div>\n<style scoped>\n    .dataframe tbody tr th:only-of-type {\n        vertical-align: middle;\n    }\n\n    .dataframe tbody tr th {\n        vertical-align: top;\n    }\n\n    .dataframe thead th {\n        text-align: right;\n    }\n</style>\n<table border=\"1\" class=\"dataframe\">\n  <thead>\n    <tr style=\"text-align: right;\">\n      <th></th>\n      <th>index</th>\n      <th>name</th>\n    </tr>\n  </thead>\n  <tbody>\n    <tr>\n      <th>0</th>\n      <td>16</td>\n      <td>Strobilomyces</td>\n    </tr>\n    <tr>\n      <th>1</th>\n      <td>17</td>\n      <td>Strobilomyces</td>\n    </tr>\n    <tr>\n      <th>2</th>\n      <td>29</td>\n      <td>Coprinopsis</td>\n    </tr>\n    <tr>\n      <th>3</th>\n      <td>60</td>\n      <td>Helvella</td>\n    </tr>\n    <tr>\n      <th>4</th>\n      <td>62</td>\n      <td>Helvella</td>\n    </tr>\n    <tr>\n      <th>...</th>\n      <td>...</td>\n      <td>...</td>\n    </tr>\n    <tr>\n      <th>17860</th>\n      <td>249740</td>\n      <td>Inocybe</td>\n    </tr>\n    <tr>\n      <th>17861</th>\n      <td>249741</td>\n      <td>Inocybe</td>\n    </tr>\n    <tr>\n      <th>17862</th>\n      <td>249742</td>\n      <td>Inocybe</td>\n    </tr>\n    <tr>\n      <th>17863</th>\n      <td>249743</td>\n      <td>Inocybe</td>\n    </tr>\n    <tr>\n      <th>17864</th>\n      <td>249966</td>\n      <td>Hebeloma</td>\n    </tr>\n  </tbody>\n</table>\n<p>17865 rows × 2 columns</p>\n</div>"
     },
     "execution_count": 10,
     "metadata": {},
     "output_type": "execute_result"
    }
   ],
   "source": [
    "# Оставим в датасете только всё самое необходимое: индекс и имя семейства, а также удалим пустое\n",
    "\n",
    "top_1000 = top_1000.rename_axis('index').reset_index()\n",
    "top_1000 = top_1000[['index', 'name']]\n",
    "top_1000.dropna(inplace=True)\n",
    "top_1000"
   ]
  },
  {
   "cell_type": "code",
   "execution_count": 11,
   "metadata": {
    "collapsed": false,
    "jupyter": {
     "outputs_hidden": false
    },
    "pycharm": {
     "name": "#%%\n"
    }
   },
   "outputs": [
    {
     "name": "stderr",
     "output_type": "stream",
     "text": [
      "  0%|          | 0/1000 [00:00<?, ?it/s]\n"
     ]
    },
    {
     "ename": "FileExistsError",
     "evalue": "[WinError 183] Невозможно создать файл, так как он уже существует: 'data_train/Psilocybe'",
     "output_type": "error",
     "traceback": [
      "\u001B[1;31m---------------------------------------------------------------------------\u001B[0m",
      "\u001B[1;31mFileExistsError\u001B[0m                           Traceback (most recent call last)",
      "\u001B[1;32m~\\AppData\\Local\\Temp\\ipykernel_9764\\1225750603.py\u001B[0m in \u001B[0;36m<module>\u001B[1;34m\u001B[0m\n\u001B[0;32m      2\u001B[0m \u001B[1;33m\u001B[0m\u001B[0m\n\u001B[0;32m      3\u001B[0m \u001B[1;32mfor\u001B[0m \u001B[0mfamily\u001B[0m \u001B[1;32min\u001B[0m \u001B[0mtqdm\u001B[0m\u001B[1;33m(\u001B[0m\u001B[0mfamilies\u001B[0m\u001B[1;33m.\u001B[0m\u001B[0mindex\u001B[0m\u001B[1;33m)\u001B[0m\u001B[1;33m:\u001B[0m\u001B[1;33m\u001B[0m\u001B[1;33m\u001B[0m\u001B[0m\n\u001B[1;32m----> 4\u001B[1;33m     \u001B[0mos\u001B[0m\u001B[1;33m.\u001B[0m\u001B[0mmkdir\u001B[0m\u001B[1;33m(\u001B[0m\u001B[1;34mf\"data_train/{family}\"\u001B[0m\u001B[1;33m)\u001B[0m\u001B[1;33m\u001B[0m\u001B[1;33m\u001B[0m\u001B[0m\n\u001B[0m\u001B[0;32m      5\u001B[0m     \u001B[1;32mfor\u001B[0m \u001B[0midx\u001B[0m\u001B[1;33m,\u001B[0m \u001B[0mrow\u001B[0m \u001B[1;32min\u001B[0m \u001B[0mtop_1000\u001B[0m\u001B[1;33m[\u001B[0m\u001B[0mtop_1000\u001B[0m\u001B[1;33m[\u001B[0m\u001B[1;34m'name'\u001B[0m\u001B[1;33m]\u001B[0m \u001B[1;33m==\u001B[0m \u001B[0mfamily\u001B[0m\u001B[1;33m]\u001B[0m\u001B[1;33m.\u001B[0m\u001B[0miterrows\u001B[0m\u001B[1;33m(\u001B[0m\u001B[1;33m)\u001B[0m\u001B[1;33m:\u001B[0m\u001B[1;33m\u001B[0m\u001B[1;33m\u001B[0m\u001B[0m\n\u001B[0;32m      6\u001B[0m         \u001B[0mshutil\u001B[0m\u001B[1;33m.\u001B[0m\u001B[0mcopy\u001B[0m\u001B[1;33m(\u001B[0m\u001B[1;34mf'data/{row[\"index\"]}.jpg'\u001B[0m\u001B[1;33m,\u001B[0m \u001B[1;34mf'data_train/{family}/{row[\"index\"]}.jpg'\u001B[0m\u001B[1;33m)\u001B[0m\u001B[1;33m\u001B[0m\u001B[1;33m\u001B[0m\u001B[0m\n",
      "\u001B[1;31mFileExistsError\u001B[0m: [WinError 183] Невозможно создать файл, так как он уже существует: 'data_train/Psilocybe'"
     ]
    }
   ],
   "source": [
    "### Раскидаем картинки этого датасета по директориям\n",
    "\n",
    "for family in tqdm(families.index):\n",
    "    os.mkdir(f\"data_train/{family}\")\n",
    "    for idx, row in top_1000[top_1000['name'] == family].iterrows():\n",
    "        shutil.copy(f'data/{row[\"index\"]}.jpg', f'data_train/{family}/{row[\"index\"]}.jpg')"
   ]
  },
  {
   "cell_type": "code",
   "execution_count": 12,
   "metadata": {
    "collapsed": false,
    "jupyter": {
     "outputs_hidden": false
    },
    "pycharm": {
     "name": "#%%\n"
    }
   },
   "outputs": [],
   "source": [
    "# # Имя семейства это категориальный признак, поэтому делаем LAbelEncoding\n",
    "# kek = pd.get_dummies(top_10[['name']])\n",
    "# top_10 = pd.concat([top_10, kek], axis=1)\n",
    "# top_10"
   ]
  },
  {
   "cell_type": "code",
   "execution_count": 13,
   "metadata": {
    "collapsed": false,
    "jupyter": {
     "outputs_hidden": false
    },
    "pycharm": {
     "name": "#%%\n"
    }
   },
   "outputs": [],
   "source": [
    "# разделим набор данных train, validation\n",
    "# train, test = train_test_split(top_10, test_size=0.2, stratify=kek)"
   ]
  },
  {
   "cell_type": "code",
   "execution_count": 14,
   "metadata": {
    "collapsed": false,
    "jupyter": {
     "outputs_hidden": false
    },
    "pycharm": {
     "name": "#%%\n"
    }
   },
   "outputs": [],
   "source": [
    "# train"
   ]
  },
  {
   "cell_type": "code",
   "execution_count": 15,
   "metadata": {
    "collapsed": false,
    "jupyter": {
     "outputs_hidden": false
    },
    "pycharm": {
     "name": "#%%\n"
    }
   },
   "outputs": [],
   "source": [
    "# test"
   ]
  },
  {
   "cell_type": "code",
   "execution_count": 16,
   "metadata": {
    "collapsed": false,
    "jupyter": {
     "outputs_hidden": false
    },
    "pycharm": {
     "name": "#%%\n"
    }
   },
   "outputs": [],
   "source": [
    "# Создадим модель import tensorflow as tf\n",
    "IMG_SIZE = 224\n",
    "def build_model(num_classes, img_size=IMG_SIZE):\n",
    "    input = tf.keras.layers.Input(shape=(img_size, img_size, 3))\n",
    "    model = tf.keras.applications.EfficientNetB3(include_top=False, input_tensor=input, weights=\"imagenet\")\n",
    "\n",
    "    # Freeze the pretrained weights\n",
    "    model.trainable = False\n",
    "\n",
    "    # Rebuild top\n",
    "    x = tf.keras.layers.GlobalAveragePooling2D(name=\"avg_pool\")(model.output)\n",
    "    x = tf.keras.layers.BatchNormalization()(x)\n",
    "\n",
    "    top_dropout_rate = 0.2\n",
    "    x = tf.keras.layers.Dropout(top_dropout_rate, name=\"top_dropout\")(x)\n",
    "    output = tf.keras.layers.Dense(num_classes, activation=\"softmax\", name=\"pred\")(x)\n",
    "\n",
    "    # Compile\n",
    "    model = tf.keras.Model(input, output, name=\"EfficientNet\")\n",
    "    model.compile(optimizer='adam', loss=\"sparse_categorical_crossentropy\", metrics=[\"sparse_categorical_accuracy\"])\n",
    "    return model"
   ]
  },
  {
   "cell_type": "code",
   "execution_count": 28,
   "metadata": {
    "collapsed": false,
    "jupyter": {
     "outputs_hidden": false
    },
    "pycharm": {
     "name": "#%%\n"
    }
   },
   "outputs": [],
   "source": [
    "#\n",
    "def use_keras_new(path):\n",
    "    keras_ds = tf.keras.preprocessing.image_dataset_from_directory(path, batch_size=32, image_size=(IMG_SIZE, IMG_SIZE))\n",
    "    keras_ds = keras_ds.prefetch(buffer_size=tf.data.experimental.AUTOTUNE)\n",
    "    # keras_ds = keras_ds.prefetch(buffer_size=1000)\n",
    "\n",
    "    num_classes = len(os.listdir(path))\n",
    "    model = build_model(num_classes)\n",
    "\n",
    "    history = model.fit(keras_ds, batch_size=32, epochs=10)\n",
    "    model.save('model.h5')\n",
    "    return model, history"
   ]
  },
  {
   "cell_type": "code",
   "execution_count": null,
   "outputs": [],
   "source": [
    "#\n",
    "def use_keras(path_learn, path_valid):\n",
    "    keras_ds = tf.keras.preprocessing.image_dataset_from_directory(path_learn, batch_size=32, image_size=(IMG_SIZE, IMG_SIZE))\n",
    "    keras_ds = keras_ds.prefetch(buffer_size=tf.data.experimental.AUTOTUNE)\n",
    "    # keras_ds = keras_ds.prefetch(buffer_size=1000)\n",
    "\n",
    "    num_classes = len(os.listdir(path_learn))\n",
    "    model = build_model(num_classes)\n",
    "\n",
    "    keras_validate = tf.keras.preprocessing.image_dataset_from_directory(path_valid, batch_size=32, image_size=(IMG_SIZE, IMG_SIZE))\n",
    "    keras_validate = keras_ds.prefetch(buffer_size=tf.data.experimental.AUTOTUNE)\n",
    "    history = model.fit(keras_ds, batch_size=32, epochs=10, validation_data=keras_validate)\n",
    "    model.save('model_valid.h5')\n",
    "    return model, history"
   ],
   "metadata": {
    "collapsed": false,
    "pycharm": {
     "name": "#%%\n"
    }
   }
  },
  {
   "cell_type": "code",
   "execution_count": 29,
   "metadata": {
    "collapsed": false,
    "jupyter": {
     "outputs_hidden": false
    },
    "pycharm": {
     "name": "#%%\n"
    }
   },
   "outputs": [
    {
     "name": "stdout",
     "output_type": "stream",
     "text": [
      "Found 17865 files belonging to 1000 classes.\n",
      "Epoch 1/10\n",
      "559/559 [==============================] - 52s 93ms/step - loss: 3.6639 - sparse_categorical_accuracy: 0.3151\n",
      "Epoch 2/10\n",
      "559/559 [==============================] - 43s 76ms/step - loss: 1.9249 - sparse_categorical_accuracy: 0.5175\n",
      "Epoch 3/10\n",
      "559/559 [==============================] - 44s 79ms/step - loss: 1.4701 - sparse_categorical_accuracy: 0.6048\n",
      "Epoch 4/10\n",
      "559/559 [==============================] - 44s 78ms/step - loss: 1.2744 - sparse_categorical_accuracy: 0.6523\n",
      "Epoch 5/10\n",
      "559/559 [==============================] - 45s 80ms/step - loss: 1.1398 - sparse_categorical_accuracy: 0.6740\n",
      "Epoch 6/10\n",
      "559/559 [==============================] - 46s 83ms/step - loss: 1.0860 - sparse_categorical_accuracy: 0.6887\n",
      "Epoch 7/10\n",
      "559/559 [==============================] - 45s 80ms/step - loss: 1.0250 - sparse_categorical_accuracy: 0.7075\n",
      "Epoch 8/10\n",
      "559/559 [==============================] - 48s 86ms/step - loss: 0.9933 - sparse_categorical_accuracy: 0.7142\n",
      "Epoch 9/10\n",
      "559/559 [==============================] - 48s 86ms/step - loss: 0.9721 - sparse_categorical_accuracy: 0.7178\n",
      "Epoch 10/10\n",
      "559/559 [==============================] - 47s 84ms/step - loss: 0.9450 - sparse_categorical_accuracy: 0.7248\n"
     ]
    }
   ],
   "source": [
    "model, history = use_keras_new('data_train')"
   ]
  },
  {
   "cell_type": "code",
   "execution_count": 25,
   "outputs": [
    {
     "ename": "AttributeError",
     "evalue": "'str' object has no attribute '_keras_mask'",
     "output_type": "error",
     "traceback": [
      "\u001B[1;31m---------------------------------------------------------------------------\u001B[0m",
      "\u001B[1;31mAttributeError\u001B[0m                            Traceback (most recent call last)",
      "\u001B[1;32m~\\AppData\\Local\\Temp\\ipykernel_9764\\1085262353.py\u001B[0m in \u001B[0;36m<module>\u001B[1;34m\u001B[0m\n\u001B[1;32m----> 1\u001B[1;33m \u001B[0mmodel\u001B[0m\u001B[1;33m(\u001B[0m\u001B[1;34m'test.jpg'\u001B[0m\u001B[1;33m)\u001B[0m\u001B[1;33m\u001B[0m\u001B[1;33m\u001B[0m\u001B[0m\n\u001B[0m",
      "\u001B[1;32m~\\anaconda3\\envs\\mushrooms_family_classification\\lib\\site-packages\\tensorflow\\python\\keras\\engine\\base_layer.py\u001B[0m in \u001B[0;36m__call__\u001B[1;34m(self, *args, **kwargs)\u001B[0m\n\u001B[0;32m    983\u001B[0m \u001B[1;33m\u001B[0m\u001B[0m\n\u001B[0;32m    984\u001B[0m         \u001B[1;32mwith\u001B[0m \u001B[0mops\u001B[0m\u001B[1;33m.\u001B[0m\u001B[0menable_auto_cast_variables\u001B[0m\u001B[1;33m(\u001B[0m\u001B[0mself\u001B[0m\u001B[1;33m.\u001B[0m\u001B[0m_compute_dtype_object\u001B[0m\u001B[1;33m)\u001B[0m\u001B[1;33m:\u001B[0m\u001B[1;33m\u001B[0m\u001B[1;33m\u001B[0m\u001B[0m\n\u001B[1;32m--> 985\u001B[1;33m           \u001B[0moutputs\u001B[0m \u001B[1;33m=\u001B[0m \u001B[0mcall_fn\u001B[0m\u001B[1;33m(\u001B[0m\u001B[0minputs\u001B[0m\u001B[1;33m,\u001B[0m \u001B[1;33m*\u001B[0m\u001B[0margs\u001B[0m\u001B[1;33m,\u001B[0m \u001B[1;33m**\u001B[0m\u001B[0mkwargs\u001B[0m\u001B[1;33m)\u001B[0m\u001B[1;33m\u001B[0m\u001B[1;33m\u001B[0m\u001B[0m\n\u001B[0m\u001B[0;32m    986\u001B[0m \u001B[1;33m\u001B[0m\u001B[0m\n\u001B[0;32m    987\u001B[0m         \u001B[1;32mif\u001B[0m \u001B[0mself\u001B[0m\u001B[1;33m.\u001B[0m\u001B[0m_activity_regularizer\u001B[0m\u001B[1;33m:\u001B[0m\u001B[1;33m\u001B[0m\u001B[1;33m\u001B[0m\u001B[0m\n",
      "\u001B[1;32m~\\anaconda3\\envs\\mushrooms_family_classification\\lib\\site-packages\\tensorflow\\python\\keras\\engine\\functional.py\u001B[0m in \u001B[0;36mcall\u001B[1;34m(self, inputs, training, mask)\u001B[0m\n\u001B[0;32m    384\u001B[0m     \"\"\"\n\u001B[0;32m    385\u001B[0m     return self._run_internal_graph(\n\u001B[1;32m--> 386\u001B[1;33m         inputs, training=training, mask=mask)\n\u001B[0m\u001B[0;32m    387\u001B[0m \u001B[1;33m\u001B[0m\u001B[0m\n\u001B[0;32m    388\u001B[0m   \u001B[1;32mdef\u001B[0m \u001B[0mcompute_output_shape\u001B[0m\u001B[1;33m(\u001B[0m\u001B[0mself\u001B[0m\u001B[1;33m,\u001B[0m \u001B[0minput_shape\u001B[0m\u001B[1;33m)\u001B[0m\u001B[1;33m:\u001B[0m\u001B[1;33m\u001B[0m\u001B[1;33m\u001B[0m\u001B[0m\n",
      "\u001B[1;32m~\\anaconda3\\envs\\mushrooms_family_classification\\lib\\site-packages\\tensorflow\\python\\keras\\engine\\functional.py\u001B[0m in \u001B[0;36m_run_internal_graph\u001B[1;34m(self, inputs, training, mask)\u001B[0m\n\u001B[0;32m    482\u001B[0m       \u001B[0mmasks\u001B[0m \u001B[1;33m=\u001B[0m \u001B[0mself\u001B[0m\u001B[1;33m.\u001B[0m\u001B[0m_flatten_to_reference_inputs\u001B[0m\u001B[1;33m(\u001B[0m\u001B[0mmask\u001B[0m\u001B[1;33m)\u001B[0m\u001B[1;33m\u001B[0m\u001B[1;33m\u001B[0m\u001B[0m\n\u001B[0;32m    483\u001B[0m     \u001B[1;32mfor\u001B[0m \u001B[0minput_t\u001B[0m\u001B[1;33m,\u001B[0m \u001B[0mmask\u001B[0m \u001B[1;32min\u001B[0m \u001B[0mzip\u001B[0m\u001B[1;33m(\u001B[0m\u001B[0minputs\u001B[0m\u001B[1;33m,\u001B[0m \u001B[0mmasks\u001B[0m\u001B[1;33m)\u001B[0m\u001B[1;33m:\u001B[0m\u001B[1;33m\u001B[0m\u001B[1;33m\u001B[0m\u001B[0m\n\u001B[1;32m--> 484\u001B[1;33m       \u001B[0minput_t\u001B[0m\u001B[1;33m.\u001B[0m\u001B[0m_keras_mask\u001B[0m \u001B[1;33m=\u001B[0m \u001B[0mmask\u001B[0m\u001B[1;33m\u001B[0m\u001B[1;33m\u001B[0m\u001B[0m\n\u001B[0m\u001B[0;32m    485\u001B[0m \u001B[1;33m\u001B[0m\u001B[0m\n\u001B[0;32m    486\u001B[0m     \u001B[1;31m# Dictionary mapping reference tensors to computed tensors.\u001B[0m\u001B[1;33m\u001B[0m\u001B[1;33m\u001B[0m\u001B[1;33m\u001B[0m\u001B[0m\n",
      "\u001B[1;31mAttributeError\u001B[0m: 'str' object has no attribute '_keras_mask'"
     ]
    }
   ],
   "source": [
    "model('test.jpg')"
   ],
   "metadata": {
    "collapsed": false,
    "pycharm": {
     "name": "#%%\n"
    }
   }
  },
  {
   "cell_type": "code",
   "execution_count": 30,
   "outputs": [
    {
     "data": {
      "text/plain": "<Figure size 432x288 with 1 Axes>",
      "image/png": "[encoded data removed]"
     },
     "metadata": {
      "needs_background": "light"
     },
     "output_type": "display_data"
    }
   ],
   "source": [
    "plt.plot(history.history['sparse_categorical_accuracy'],\n",
    "         label='Доля верных ответов на обучающем наборе')\n",
    "# plt.plot(history.history['val_categorical_accuracy'],\n",
    "#          label='Доля верных ответов на проверочном наборе')\n",
    "plt.xlabel('Эпоха обучения')\n",
    "plt.ylabel('Доля верных ответов')\n",
    "plt.legend()\n",
    "plt.show()"
   ],
   "metadata": {
    "collapsed": false,
    "pycharm": {
     "name": "#%%\n"
    }
   }
  },
  {
   "cell_type": "code",
   "execution_count": null,
   "outputs": [],
   "source": [],
   "metadata": {
    "collapsed": false,
    "pycharm": {
     "name": "#%%\n"
    }
   }
  }
 ],
 "metadata": {
  "kernelspec": {
   "display_name": "Python 3 (ipykernel)",
   "language": "python",
   "name": "python3"
  },
  "language_info": {
   "codemirror_mode": {
    "name": "ipython",
    "version": 3
   },
   "file_extension": ".py",
   "mimetype": "text/x-python",
   "name": "python",
   "nbconvert_exporter": "python",
   "pygments_lexer": "ipython3",
   "version": "3.9.7"
  }
 },
 "nbformat": 4,
 "nbformat_minor": 4
}